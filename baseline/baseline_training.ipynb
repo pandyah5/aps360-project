{
  "nbformat": 4,
  "nbformat_minor": 0,
  "metadata": {
    "colab": {
      "name": "baseline_training.ipynb",
      "provenance": [],
      "machine_shape": "hm",
      "authorship_tag": "ABX9TyP+LYme2uaNtJVOrX38Yu2d",
      "include_colab_link": true
    },
    "kernelspec": {
      "name": "python3",
      "display_name": "Python 3"
    },
    "language_info": {
      "name": "python"
    },
    "accelerator": "GPU"
  },
  "cells": [
    {
      "cell_type": "markdown",
      "metadata": {
        "id": "view-in-github",
        "colab_type": "text"
      },
      "source": [
        "<a href=\"https://colab.research.google.com/github/pandyah5/aps360-project/blob/baseline/baseline/baseline_training.ipynb\" target=\"_parent\"><img src=\"https://colab.research.google.com/assets/colab-badge.svg\" alt=\"Open In Colab\"/></a>"
      ]
    },
    {
      "cell_type": "code",
      "execution_count": null,
      "metadata": {
        "id": "46cN7UIMYt1A"
      },
      "outputs": [],
      "source": [
        "from torch.utils.data import DataLoader\n",
        "from torch.utils.data import Dataset \n",
        "from torch.utils.data.sampler import SubsetRandomSampler\n",
        "import torchvision\n",
        "import torch\n",
        "import torch.nn as nn\n",
        "import torchvision.transforms as transforms\n",
        "import numpy as np\n",
        "import torch.optim as optim\n",
        "import torch.nn.functional as F\n",
        "import matplotlib.pyplot as plt\n",
        "import os\n",
        "import string\n",
        "import time"
      ]
    },
    {
      "cell_type": "code",
      "source": [
        "from google.colab import drive\n",
        "drive.mount('/content/drive')"
      ],
      "metadata": {
        "id": "cC-sbO4tbMHQ",
        "colab": {
          "base_uri": "https://localhost:8080/"
        },
        "outputId": "bce38595-2f71-4815-bfbc-4b8dcd402d59"
      },
      "execution_count": null,
      "outputs": [
        {
          "output_type": "stream",
          "name": "stdout",
          "text": [
            "Mounted at /content/drive\n"
          ]
        }
      ]
    },
    {
      "cell_type": "code",
      "source": [
        "WORKING_DIR = \"/content/drive/MyDrive/Documents/Uni/School/FifthYear/APS360/aps360/baseline\"\n",
        "os.chdir(WORKING_DIR)\n",
        "DATASET_PATH = \"mask_dataset_processed\""
      ],
      "metadata": {
        "id": "AHgoG46-bOGr"
      },
      "execution_count": null,
      "outputs": []
    },
    {
      "cell_type": "code",
      "source": [
        "device = torch.device(\"cuda:0\" if torch.cuda.is_available() else \"cpu\")\n",
        "device"
      ],
      "metadata": {
        "id": "ug0MwKXsbRld",
        "colab": {
          "base_uri": "https://localhost:8080/"
        },
        "outputId": "ef09699e-f225-4fca-c533-aecb27462c37"
      },
      "execution_count": null,
      "outputs": [
        {
          "output_type": "execute_result",
          "data": {
            "text/plain": [
              "device(type='cuda', index=0)"
            ]
          },
          "metadata": {},
          "execution_count": 4
        }
      ]
    },
    {
      "cell_type": "code",
      "source": [
        "CLASSES = {\"with_mask\": 0,\n",
        "           \"without_mask\": 1,\n",
        "           \"mask_weared_incorrect\": 2}"
      ],
      "metadata": {
        "id": "mwvDZ_XRbmKi"
      },
      "execution_count": null,
      "outputs": []
    },
    {
      "cell_type": "code",
      "source": [
        "def get_data_loader(batch_size, sanity_check=False, num_workers=1):\n",
        "    \"\"\" Loads images of cats and dogs, splits the data into training, validation\n",
        "    and testing datasets. Returns data loaders for the three preprocessed datasets.\n",
        "\n",
        "    Args:\n",
        "        batch_size: A int representing the number of samples per batch\n",
        "    \n",
        "    Returns:\n",
        "        train_loader: iterable training dataset organized according to batch size\n",
        "        val_loader: iterable validation dataset organized according to batch size\n",
        "        test_loader: iterable testing dataset organized according to batch size\n",
        "        classes: A list of strings denoting the name of each class\n",
        "    \"\"\"\n",
        "\n",
        "    \n",
        "\n",
        "    classes = list(CLASSES.keys())\n",
        "    ########################################################################\n",
        "    # The output of torchvision datasets are PILImage images of range [0, 1].\n",
        "    # We transform them to Tensors of normalized range [-1, 1].\n",
        "    transform = transforms.Compose(\n",
        "        [transforms.Resize((128,128)),\n",
        "         transforms.ToTensor(),\n",
        "         transforms.Normalize((0.5, 0.5, 0.5), (0.5, 0.5, 0.5))])\n",
        "    # Load gestures training data\n",
        "    dataset = torchvision.datasets.ImageFolder(\n",
        "      root=DATASET_PATH,\n",
        "      transform=transform)\n",
        "    \n",
        "    # Get the list of indices to sample from\n",
        "    relevant_indices = list(range(len(dataset)))\n",
        "    \n",
        "    # Split into train and validation\n",
        "    np.random.seed(1000) # Fixed numpy random seed for reproducible shuffling\n",
        "    np.random.shuffle(relevant_indices)\n",
        "    split = int(len(relevant_indices) * 0.7)\n",
        "    \n",
        "    np.random.shuffle(relevant_indices)\n",
        "    split_train = int(len(relevant_indices) * 0.7)\n",
        "    split_test = int(len(relevant_indices) * 0.9)\n",
        "\n",
        "    # split into training and validation indices\n",
        "    relevant_train_indices, relevant_val_indices, relevant_test_indices = \\\n",
        "        relevant_indices[:split_train], relevant_indices[split_train:split_test], relevant_indices[split_test:]\n",
        "    \n",
        "    train_sampler = SubsetRandomSampler(relevant_train_indices)\n",
        "    train_loader = torch.utils.data.DataLoader(dataset, batch_size=batch_size,\n",
        "                                               num_workers=num_workers, sampler=train_sampler)\n",
        "    \n",
        "    val_sampler = SubsetRandomSampler(relevant_val_indices)\n",
        "    val_loader = torch.utils.data.DataLoader(dataset, batch_size=batch_size,\n",
        "                                              num_workers=num_workers, sampler=val_sampler)\n",
        "    \n",
        "    test_sampler = SubsetRandomSampler(relevant_test_indices)\n",
        "    test_loader = torch.utils.data.DataLoader(dataset, batch_size=batch_size,\n",
        "                                              num_workers=num_workers, sampler=test_sampler)\n",
        "    \n",
        "    return train_loader, val_loader, test_loader, classes"
      ],
      "metadata": {
        "id": "SFQJYoOCbSHt"
      },
      "execution_count": null,
      "outputs": []
    },
    {
      "cell_type": "code",
      "source": [
        "class BaselineNet(nn.Module):\n",
        "\n",
        "    def __init__(self):\n",
        "        super().__init__()\n",
        "        self.name = \"baseline_net\"\n",
        "\n",
        "        self.pool = nn.MaxPool2d(kernel_size=2,\n",
        "                                 stride=2)\n",
        "\n",
        "        self.conv1 = nn.Conv2d(in_channels=3,\n",
        "                               out_channels=6,\n",
        "                               kernel_size=3,\n",
        "                               padding=\"same\")\n",
        "\n",
        "        self.conv2 = nn.Conv2d(in_channels=6,\n",
        "                               out_channels=12,\n",
        "                               kernel_size=3,\n",
        "                               padding=\"same\")\n",
        "\n",
        "        self.conv3 = nn.Conv2d(in_channels=12,\n",
        "                               out_channels=24,\n",
        "                               kernel_size=3,\n",
        "                               padding=\"same\")\n",
        "\n",
        "        self.conv4 = nn.Conv2d(in_channels=24,\n",
        "                               out_channels=48,\n",
        "                               kernel_size=3,\n",
        "                               padding=\"same\")\n",
        "\n",
        "        self.fc1 = nn.Linear(8 * 8 * 48, 2048)\n",
        "\n",
        "        self.fc2 = nn.Linear(2048, 1024)\n",
        "\n",
        "        self.fc3 = nn.Linear(1024, 3)\n",
        "\n",
        "    def forward(self, x):\n",
        "        x = self.pool(F.relu(self.conv1(x)))\n",
        "        x = self.pool(F.relu(self.conv2(x)))\n",
        "        x = self.pool(F.relu(self.conv3(x)))\n",
        "        x = self.pool(F.relu(self.conv4(x)))\n",
        "        x = x.view(-1, 8 * 8 * 48)\n",
        "        x = F.relu(self.fc1(x))\n",
        "        x = F.relu(self.fc2(x))\n",
        "        x = self.fc3(x)\n",
        "        x = x.squeeze(1)  # Flatten to [batch_size]\n",
        "        return x\n"
      ],
      "metadata": {
        "id": "cSY5n8NecWAH"
      },
      "execution_count": null,
      "outputs": []
    },
    {
      "cell_type": "code",
      "source": [
        "###############################################################################\n",
        "# Training\n",
        "def get_model_name(name, batch_size, learning_rate, epoch, path_prefix=\"\"):\n",
        "    \"\"\" Generate a name for the model consisting of all the hyperparameter values\n",
        "\n",
        "    Args:\n",
        "        config: Configuration object containing the hyperparameters\n",
        "    Returns:\n",
        "        path: A string with the hyperparameter name and value concatenated\n",
        "    \"\"\"\n",
        "    if path_prefix != \"\" and not os.path.exists(path_prefix):\n",
        "        os.makedirs(path_prefix)\n",
        "\n",
        "    path = \"model_{0}_bs{1}_lr{2}_epoch{3}\".format(name,\n",
        "                                                   batch_size,\n",
        "                                                   learning_rate,\n",
        "                                                   epoch)\n",
        "    \n",
        "    return os.path.join(path_prefix, path)\n",
        "\n",
        "\n",
        "def evaluate(net, loader, criterion):\n",
        "    \"\"\" Evaluate the network on the validation set.\n",
        "\n",
        "     Args:\n",
        "         net: PyTorch neural network object\n",
        "         loader: PyTorch data loader for the validation set\n",
        "         criterion: The loss function\n",
        "     Returns:\n",
        "         acc: A scalar for the avg classification accuracy over the validation set\n",
        "         loss: A scalar for the average loss function over the validation set\n",
        "     \"\"\"\n",
        "    total_loss = 0.0\n",
        "    total_acc = 0.0\n",
        "    total_epoch = 0\n",
        "    for i, data in enumerate(loader, 0):\n",
        "        inputs, labels = data\n",
        "        \n",
        "        inputs, labels = inputs.to(device), labels.to(device)\n",
        "        \n",
        "        outputs = net(inputs)\n",
        "        loss = criterion(outputs, labels)\n",
        "\n",
        "        # Get the index of the max log-probability\n",
        "        pred = outputs.max(1, keepdim=True)[1] \n",
        "\n",
        "        # Check for correctness\n",
        "        corr = pred.eq(labels.view_as(pred))\n",
        "\n",
        "        total_acc += int(corr.sum().item())\n",
        "        total_loss += loss.item()\n",
        "        total_epoch += len(labels)\n",
        "\n",
        "    acc = float(total_acc) / total_epoch\n",
        "    loss = float(total_loss) / (i + 1)\n",
        "    return acc, loss\n",
        "\n",
        "###############################################################################\n",
        "# Training Curve\n",
        "def plot_training_curve(path):\n",
        "    \"\"\" Plots the training curve for a model run, given the csv files\n",
        "    containing the train/validation accuracy/loss.\n",
        "\n",
        "    Args:\n",
        "        path: The base path of the csv files produced during training\n",
        "    \"\"\"\n",
        "    import matplotlib.pyplot as plt\n",
        "    train_acc = np.loadtxt(\"{}_train_acc.csv\".format(path))\n",
        "    val_acc = np.loadtxt(\"{}_val_acc.csv\".format(path))\n",
        "    train_loss = np.loadtxt(\"{}_train_loss.csv\".format(path))\n",
        "    val_loss = np.loadtxt(\"{}_val_loss.csv\".format(path))\n",
        "    plt.title(\"Train vs Validation Accuracy\")\n",
        "    n = len(train_acc) # number of epochs\n",
        "    plt.plot(range(1,n+1), train_acc, label=\"Train\")\n",
        "    plt.plot(range(1,n+1), val_acc, label=\"Validation\")\n",
        "    plt.xlabel(\"Epoch\")\n",
        "    plt.ylabel(\"Accuracy\")\n",
        "    plt.legend(loc='best')\n",
        "    plt.show()\n",
        "    plt.title(\"Train vs Validation Loss\")\n",
        "    plt.plot(range(1,n+1), train_loss, label=\"Train\")\n",
        "    plt.plot(range(1,n+1), val_loss, label=\"Validation\")\n",
        "    plt.xlabel(\"Epoch\")\n",
        "    plt.ylabel(\"Loss\")\n",
        "    plt.legend(loc='best')\n",
        "    plt.show()\n",
        "\n",
        "\n",
        "###############################################################################\n",
        "# Training Code\n",
        "\n",
        "def train_net(net, \n",
        "              path_prefix=\"\", \n",
        "              batch_size=64, \n",
        "              learning_rate=0.01, \n",
        "              num_epochs=30,\n",
        "              num_workers=1,\n",
        "              sanity_check=False,\n",
        "              custom_get_data_loader=None,\n",
        "              **kwargs):\n",
        "\n",
        "\n",
        "\n",
        "    torch.manual_seed(1000)\n",
        "\n",
        "    if custom_get_data_loader:\n",
        "      train_loader, val_loader, test_loader, classes = custom_get_data_loader(\n",
        "              batch_size, num_workers=num_workers, sanity_check=sanity_check)\n",
        "    else:\n",
        "      train_loader, val_loader, test_loader, classes = get_data_loader(\n",
        "              batch_size, num_workers=num_workers, sanity_check=sanity_check)\n",
        "    \n",
        "    criterion = nn.CrossEntropyLoss()\n",
        "    optimizer=optim.Adam(net.parameters(),lr=learning_rate)\n",
        "\n",
        "    ########################################################################\n",
        "    # Set up some numpy arrays to store the training/test loss/accuracy\n",
        "    train_acc = np.zeros(num_epochs)\n",
        "    train_loss = np.zeros(num_epochs)\n",
        "    val_acc = np.zeros(num_epochs)\n",
        "    val_loss = np.zeros(num_epochs)\n",
        "    ########################################################################\n",
        "    # Train the network\n",
        "    # Loop over the data iterator and sample a new batch of training data\n",
        "    # Get the output from the network, and optimize our loss function.\n",
        "    start_time = time.time()\n",
        "    for epoch in range(num_epochs):  # loop over the dataset multiple times\n",
        "        total_train_loss = 0.0\n",
        "        total_train_acc = 0.0\n",
        "        total_epoch = 0\n",
        "        for i, data in enumerate(train_loader, 0):\n",
        "            # Get the inputs\n",
        "            inputs, labels = data\n",
        "\n",
        "            # Move the inputs and labels to gpu if possible\n",
        "            inputs, labels = inputs.to(device), labels.to(device)\n",
        "\n",
        "            # Zero the parameter gradients\n",
        "            optimizer.zero_grad()\n",
        "            # Forward pass, backward pass, and optimize\n",
        "            outputs = net(inputs)\n",
        "            loss = criterion(outputs, labels)\n",
        "            # print(f\"inputs: {inputs.size()}, , labels: {labels.size()}, outputs: {outputs.size()}\")\n",
        "            # print(\"---\")\n",
        "            loss.backward()\n",
        "            optimizer.step()\n",
        "\n",
        "            # Calculate the statistics\n",
        "            # Get the index of the max log-probability\n",
        "            pred = outputs.max(1, keepdim=True)[1] \n",
        "\n",
        "            # Check for correctness\n",
        "            corr = pred.eq(labels.view_as(pred))\n",
        "\n",
        "            total_train_acc += int(corr.sum().item())\n",
        "            total_train_loss += loss.item()\n",
        "            total_epoch += len(labels)\n",
        "        \n",
        "        train_acc[epoch] = float(total_train_acc) / total_epoch\n",
        "        train_loss[epoch] = float(total_train_loss) / (i+1)\n",
        "        val_acc[epoch], val_loss[epoch] = evaluate(net, val_loader, criterion)\n",
        "\n",
        "        print((\"Epoch {}: Train acc: {}, Train loss: {} |\"+\n",
        "               \"Validation acc: {}, Validation loss: {}\").format(\n",
        "                   epoch + 1,\n",
        "                   train_acc[epoch],\n",
        "                   train_loss[epoch],\n",
        "                   val_acc[epoch],\n",
        "                   val_loss[epoch]))\n",
        "        \n",
        "        # Save the current model (checkpoint) to a file\n",
        "        model_path = get_model_name(net.name, batch_size, learning_rate, epoch, path_prefix=path_prefix)\n",
        "        torch.save(net.state_dict(), model_path)\n",
        "    \n",
        "    print('Finished Training')\n",
        "    end_time = time.time()\n",
        "    elapsed_time = end_time - start_time\n",
        "    print(\"Total time elapsed: {:.2f} seconds\".format(elapsed_time))\n",
        "\n",
        "    # Write the train/test loss/acc into CSV file for plotting later\n",
        "    epochs = np.arange(1, num_epochs + 1)\n",
        "\n",
        "    np.savetxt(\"{}_train_acc.csv\".format(model_path), train_acc)\n",
        "    np.savetxt(\"{}_train_loss.csv\".format(model_path), train_loss)\n",
        "    np.savetxt(\"{}_val_acc.csv\".format(model_path), val_acc)\n",
        "    np.savetxt(\"{}_val_loss.csv\".format(model_path), val_loss)\n",
        "\n",
        "    return test_loader"
      ],
      "metadata": {
        "id": "7I3VnQx6cW2T"
      },
      "execution_count": null,
      "outputs": []
    },
    {
      "cell_type": "code",
      "source": [
        "model = BaselineNet().to(device)\n",
        "training_params = {\n",
        "    \"net\": model,\n",
        "    \"path_prefix\": \"test_bs_256\",\n",
        "    \"network_name\": \"baseline_net\",\n",
        "    \"batch_size\": 256,\n",
        "    \"learning_rate\": 0.001,\n",
        "    \"num_epochs\": 30,\n",
        "    \"num_workers\": 2\n",
        "\n",
        "}\n",
        "test_loader = train_net(**training_params)"
      ],
      "metadata": {
        "id": "B82XlEnlcmdE",
        "colab": {
          "base_uri": "https://localhost:8080/"
        },
        "outputId": "ebe5f4ce-8109-4e18-e91c-0a3e162bb390"
      },
      "execution_count": null,
      "outputs": [
        {
          "output_type": "stream",
          "name": "stdout",
          "text": [
            "Epoch 1: Train acc: 0.7905263157894736, Train loss: 0.7391664683818817 |Validation acc: 0.7936117936117936, Validation loss: 0.549523115158081\n",
            "Epoch 2: Train acc: 0.7905263157894736, Train loss: 0.5277763629953066 |Validation acc: 0.7936117936117936, Validation loss: 0.5442207977175713\n",
            "Epoch 3: Train acc: 0.84, Train loss: 0.3819943740963936 |Validation acc: 0.9041769041769042, Validation loss: 0.33023781329393387\n",
            "Epoch 4: Train acc: 0.9171929824561403, Train loss: 0.24443951342254877 |Validation acc: 0.9361179361179361, Validation loss: 0.1989535540342331\n",
            "Epoch 5: Train acc: 0.9403508771929825, Train loss: 0.17080678356190523 |Validation acc: 0.9398034398034398, Validation loss: 0.2501477338373661\n",
            "Epoch 6: Train acc: 0.9392982456140351, Train loss: 0.1824836606780688 |Validation acc: 0.9484029484029484, Validation loss: 0.1514578778296709\n",
            "Epoch 7: Train acc: 0.9438596491228071, Train loss: 0.17147002120812735 |Validation acc: 0.941031941031941, Validation loss: 0.14928147848695517\n",
            "Epoch 8: Train acc: 0.9466666666666667, Train loss: 0.16786190308630466 |Validation acc: 0.941031941031941, Validation loss: 0.15069817937910557\n",
            "Epoch 9: Train acc: 0.9470175438596491, Train loss: 0.14864731890459856 |Validation acc: 0.9422604422604423, Validation loss: 0.15099281258881092\n",
            "Epoch 10: Train acc: 0.9494736842105264, Train loss: 0.14985743537545204 |Validation acc: 0.9484029484029484, Validation loss: 0.157726738601923\n",
            "Epoch 11: Train acc: 0.9536842105263158, Train loss: 0.15587060463925204 |Validation acc: 0.9484029484029484, Validation loss: 0.14094078727066517\n",
            "Epoch 12: Train acc: 0.9526315789473684, Train loss: 0.1459550249079863 |Validation acc: 0.9508599508599509, Validation loss: 0.17845350317656994\n",
            "Epoch 13: Train acc: 0.9554385964912281, Train loss: 0.12794053585579 |Validation acc: 0.9459459459459459, Validation loss: 0.12882113736122847\n",
            "Epoch 14: Train acc: 0.9585964912280702, Train loss: 0.11966866192718346 |Validation acc: 0.9508599508599509, Validation loss: 0.15602635964751244\n",
            "Epoch 15: Train acc: 0.9592982456140351, Train loss: 0.11806862304608028 |Validation acc: 0.9459459459459459, Validation loss: 0.1963685229420662\n",
            "Epoch 16: Train acc: 0.9635087719298245, Train loss: 0.12261625068883102 |Validation acc: 0.9533169533169533, Validation loss: 0.13683066423982382\n",
            "Epoch 17: Train acc: 0.9635087719298245, Train loss: 0.11162518554677565 |Validation acc: 0.9508599508599509, Validation loss: 0.16054718382656574\n",
            "Epoch 18: Train acc: 0.9673684210526315, Train loss: 0.094463511214902 |Validation acc: 0.9471744471744472, Validation loss: 0.14414351992309093\n",
            "Epoch 19: Train acc: 0.9691228070175438, Train loss: 0.09055751220633586 |Validation acc: 0.9496314496314496, Validation loss: 0.14322194643318653\n",
            "Epoch 20: Train acc: 0.972280701754386, Train loss: 0.08210665980974834 |Validation acc: 0.9447174447174447, Validation loss: 0.1426561027765274\n",
            "Epoch 21: Train acc: 0.9792982456140351, Train loss: 0.07844080558667581 |Validation acc: 0.9348894348894349, Validation loss: 0.14993091253563762\n",
            "Epoch 22: Train acc: 0.9687719298245614, Train loss: 0.09922926096866529 |Validation acc: 0.9422604422604423, Validation loss: 0.19417872093617916\n",
            "Epoch 23: Train acc: 0.9729824561403508, Train loss: 0.07853931064407031 |Validation acc: 0.9471744471744472, Validation loss: 0.18341480940580368\n",
            "Epoch 24: Train acc: 0.9789473684210527, Train loss: 0.07292538229376078 |Validation acc: 0.9484029484029484, Validation loss: 0.14087268710136414\n",
            "Epoch 25: Train acc: 0.9831578947368421, Train loss: 0.05152891017496586 |Validation acc: 0.9484029484029484, Validation loss: 0.17307154461741447\n",
            "Epoch 26: Train acc: 0.9859649122807017, Train loss: 0.04077331395819783 |Validation acc: 0.9508599508599509, Validation loss: 0.18358122557401657\n",
            "Epoch 27: Train acc: 0.9866666666666667, Train loss: 0.045287704172854625 |Validation acc: 0.9471744471744472, Validation loss: 0.1837901659309864\n",
            "Epoch 28: Train acc: 0.980701754385965, Train loss: 0.049836094956845045 |Validation acc: 0.9336609336609336, Validation loss: 0.23108960688114166\n",
            "Epoch 29: Train acc: 0.9831578947368421, Train loss: 0.053302701407422624 |Validation acc: 0.9533169533169533, Validation loss: 0.15289951115846634\n",
            "Epoch 30: Train acc: 0.9894736842105263, Train loss: 0.033090753868843116 |Validation acc: 0.9373464373464373, Validation loss: 0.2554718405008316\n",
            "Finished Training\n",
            "Total time elapsed: 177.29 seconds\n"
          ]
        }
      ]
    },
    {
      "cell_type": "code",
      "source": [
        "model_path = get_model_name(training_params[\"network_name\"], \n",
        "                            batch_size=training_params[\"batch_size\"], \n",
        "                            learning_rate=training_params[\"learning_rate\"], \n",
        "                            epoch=training_params[\"num_epochs\"] - 1,\n",
        "                            path_prefix=training_params[\"path_prefix\"])\n",
        "\n",
        "plot_training_curve(model_path)"
      ],
      "metadata": {
        "colab": {
          "base_uri": "https://localhost:8080/",
          "height": 573
        },
        "id": "FVyEWoIMgPXE",
        "outputId": "75211477-b266-4983-a584-b21d0431908e"
      },
      "execution_count": null,
      "outputs": [
        {
          "output_type": "display_data",
          "data": {
            "image/png": "[encoded data removed]",
            "text/plain": [
              "<Figure size 432x288 with 1 Axes>"
            ]
          },
          "metadata": {
            "needs_background": "light"
          }
        },
        {
          "output_type": "display_data",
          "data": {
            "image/png": "[encoded data removed]",
            "text/plain": [
              "<Figure size 432x288 with 1 Axes>"
            ]
          },
          "metadata": {
            "needs_background": "light"
          }
        }
      ]
    },
    {
      "cell_type": "code",
      "source": [
        "net = BaselineNet().to(device)\n",
        "\n",
        "model_path = get_model_name(training_params[\"network_name\"], \n",
        "                            batch_size=training_params[\"batch_size\"], \n",
        "                            learning_rate=training_params[\"learning_rate\"], \n",
        "                            epoch=26 - 1,\n",
        "                            path_prefix=training_params[\"path_prefix\"])\n",
        "state = torch.load(model_path)\n",
        "net.load_state_dict(state)\n",
        "criterion = nn.CrossEntropyLoss()\n",
        "err, loss=(evaluate(net, test_loader, criterion))\n",
        "print(\"Test Accuracy: \", err)"
      ],
      "metadata": {
        "colab": {
          "base_uri": "https://localhost:8080/"
        },
        "id": "5Tlorb75gRbH",
        "outputId": "7904f7fe-25e9-4c41-b7e5-873d54400006"
      },
      "execution_count": null,
      "outputs": [
        {
          "output_type": "stream",
          "name": "stdout",
          "text": [
            "Test Accuracy:  0.9436274509803921\n"
          ]
        }
      ]
    }
  ]
}