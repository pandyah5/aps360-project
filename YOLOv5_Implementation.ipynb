{
  "nbformat": 4,
  "nbformat_minor": 0,
  "metadata": {
    "colab": {
      "name": "YOLOv5 Implementation",
      "provenance": [],
      "collapsed_sections": []
    },
    "kernelspec": {
      "name": "python3",
      "display_name": "Python 3"
    },
    "language_info": {
      "name": "python"
    },
    "accelerator": "GPU",
    "widgets": {
      "application/vnd.jupyter.widget-state+json": {
        "48c58c5197f049a3be3643e26c7d48db": {
          "model_module": "@jupyter-widgets/controls",
          "model_name": "HBoxModel",
          "model_module_version": "1.5.0",
          "state": {
            "_view_name": "HBoxView",
            "_dom_classes": [],
            "_model_name": "HBoxModel",
            "_view_module": "@jupyter-widgets/controls",
            "_model_module_version": "1.5.0",
            "_view_count": null,
            "_view_module_version": "1.5.0",
            "box_style": "",
            "layout": "IPY_MODEL_80997d03f5db4b79a300583132110225",
            "_model_module": "@jupyter-widgets/controls",
            "children": [
              "IPY_MODEL_78d8ee21a210402fb53eb5422180d1ac",
              "IPY_MODEL_e6b779b796ee4ae581061103f448d47f",
              "IPY_MODEL_07baa6804a89495c8778d84d2c222837"
            ]
          }
        },
        "80997d03f5db4b79a300583132110225": {
          "model_module": "@jupyter-widgets/base",
          "model_name": "LayoutModel",
          "model_module_version": "1.2.0",
          "state": {
            "_view_name": "LayoutView",
            "grid_template_rows": null,
            "right": null,
            "justify_content": null,
            "_view_module": "@jupyter-widgets/base",
            "overflow": null,
            "_model_module_version": "1.2.0",
            "_view_count": null,
            "flex_flow": null,
            "width": null,
            "min_width": null,
            "border": null,
            "align_items": null,
            "bottom": null,
            "_model_module": "@jupyter-widgets/base",
            "top": null,
            "grid_column": null,
            "overflow_y": null,
            "overflow_x": null,
            "grid_auto_flow": null,
            "grid_area": null,
            "grid_template_columns": null,
            "flex": null,
            "_model_name": "LayoutModel",
            "justify_items": null,
            "grid_row": null,
            "max_height": null,
            "align_content": null,
            "visibility": null,
            "align_self": null,
            "height": null,
            "min_height": null,
            "padding": null,
            "grid_auto_rows": null,
            "grid_gap": null,
            "max_width": null,
            "order": null,
            "_view_module_version": "1.2.0",
            "grid_template_areas": null,
            "object_position": null,
            "object_fit": null,
            "grid_auto_columns": null,
            "margin": null,
            "display": null,
            "left": null
          }
        },
        "78d8ee21a210402fb53eb5422180d1ac": {
          "model_module": "@jupyter-widgets/controls",
          "model_name": "HTMLModel",
          "model_module_version": "1.5.0",
          "state": {
            "_view_name": "HTMLView",
            "style": "IPY_MODEL_ccd8bee6914046cca436298a07cc7015",
            "_dom_classes": [],
            "description": "",
            "_model_name": "HTMLModel",
            "placeholder": "​",
            "_view_module": "@jupyter-widgets/controls",
            "_model_module_version": "1.5.0",
            "value": "100%",
            "_view_count": null,
            "_view_module_version": "1.5.0",
            "description_tooltip": null,
            "_model_module": "@jupyter-widgets/controls",
            "layout": "IPY_MODEL_99738a73425d4df3afd57d10d43da305"
          }
        },
        "e6b779b796ee4ae581061103f448d47f": {
          "model_module": "@jupyter-widgets/controls",
          "model_name": "FloatProgressModel",
          "model_module_version": "1.5.0",
          "state": {
            "_view_name": "ProgressView",
            "style": "IPY_MODEL_8ebb260f336949818d9728d80de5393b",
            "_dom_classes": [],
            "description": "",
            "_model_name": "FloatProgressModel",
            "bar_style": "success",
            "max": 14808437,
            "_view_module": "@jupyter-widgets/controls",
            "_model_module_version": "1.5.0",
            "value": 14808437,
            "_view_count": null,
            "_view_module_version": "1.5.0",
            "orientation": "horizontal",
            "min": 0,
            "description_tooltip": null,
            "_model_module": "@jupyter-widgets/controls",
            "layout": "IPY_MODEL_76a2074db66442e7aa474ad7d57b59d1"
          }
        },
        "07baa6804a89495c8778d84d2c222837": {
          "model_module": "@jupyter-widgets/controls",
          "model_name": "HTMLModel",
          "model_module_version": "1.5.0",
          "state": {
            "_view_name": "HTMLView",
            "style": "IPY_MODEL_6df8fdbef9624cd28da654c8a799d74b",
            "_dom_classes": [],
            "description": "",
            "_model_name": "HTMLModel",
            "placeholder": "​",
            "_view_module": "@jupyter-widgets/controls",
            "_model_module_version": "1.5.0",
            "value": " 14.1M/14.1M [00:00&lt;00:00, 20.9MB/s]",
            "_view_count": null,
            "_view_module_version": "1.5.0",
            "description_tooltip": null,
            "_model_module": "@jupyter-widgets/controls",
            "layout": "IPY_MODEL_9ede56c2a6d84e809a797c6174221545"
          }
        },
        "ccd8bee6914046cca436298a07cc7015": {
          "model_module": "@jupyter-widgets/controls",
          "model_name": "DescriptionStyleModel",
          "model_module_version": "1.5.0",
          "state": {
            "_view_name": "StyleView",
            "_model_name": "DescriptionStyleModel",
            "description_width": "",
            "_view_module": "@jupyter-widgets/base",
            "_model_module_version": "1.5.0",
            "_view_count": null,
            "_view_module_version": "1.2.0",
            "_model_module": "@jupyter-widgets/controls"
          }
        },
        "99738a73425d4df3afd57d10d43da305": {
          "model_module": "@jupyter-widgets/base",
          "model_name": "LayoutModel",
          "model_module_version": "1.2.0",
          "state": {
            "_view_name": "LayoutView",
            "grid_template_rows": null,
            "right": null,
            "justify_content": null,
            "_view_module": "@jupyter-widgets/base",
            "overflow": null,
            "_model_module_version": "1.2.0",
            "_view_count": null,
            "flex_flow": null,
            "width": null,
            "min_width": null,
            "border": null,
            "align_items": null,
            "bottom": null,
            "_model_module": "@jupyter-widgets/base",
            "top": null,
            "grid_column": null,
            "overflow_y": null,
            "overflow_x": null,
            "grid_auto_flow": null,
            "grid_area": null,
            "grid_template_columns": null,
            "flex": null,
            "_model_name": "LayoutModel",
            "justify_items": null,
            "grid_row": null,
            "max_height": null,
            "align_content": null,
            "visibility": null,
            "align_self": null,
            "height": null,
            "min_height": null,
            "padding": null,
            "grid_auto_rows": null,
            "grid_gap": null,
            "max_width": null,
            "order": null,
            "_view_module_version": "1.2.0",
            "grid_template_areas": null,
            "object_position": null,
            "object_fit": null,
            "grid_auto_columns": null,
            "margin": null,
            "display": null,
            "left": null
          }
        },
        "8ebb260f336949818d9728d80de5393b": {
          "model_module": "@jupyter-widgets/controls",
          "model_name": "ProgressStyleModel",
          "model_module_version": "1.5.0",
          "state": {
            "_view_name": "StyleView",
            "_model_name": "ProgressStyleModel",
            "description_width": "",
            "_view_module": "@jupyter-widgets/base",
            "_model_module_version": "1.5.0",
            "_view_count": null,
            "_view_module_version": "1.2.0",
            "bar_color": null,
            "_model_module": "@jupyter-widgets/controls"
          }
        },
        "76a2074db66442e7aa474ad7d57b59d1": {
          "model_module": "@jupyter-widgets/base",
          "model_name": "LayoutModel",
          "model_module_version": "1.2.0",
          "state": {
            "_view_name": "LayoutView",
            "grid_template_rows": null,
            "right": null,
            "justify_content": null,
            "_view_module": "@jupyter-widgets/base",
            "overflow": null,
            "_model_module_version": "1.2.0",
            "_view_count": null,
            "flex_flow": null,
            "width": null,
            "min_width": null,
            "border": null,
            "align_items": null,
            "bottom": null,
            "_model_module": "@jupyter-widgets/base",
            "top": null,
            "grid_column": null,
            "overflow_y": null,
            "overflow_x": null,
            "grid_auto_flow": null,
            "grid_area": null,
            "grid_template_columns": null,
            "flex": null,
            "_model_name": "LayoutModel",
            "justify_items": null,
            "grid_row": null,
            "max_height": null,
            "align_content": null,
            "visibility": null,
            "align_self": null,
            "height": null,
            "min_height": null,
            "padding": null,
            "grid_auto_rows": null,
            "grid_gap": null,
            "max_width": null,
            "order": null,
            "_view_module_version": "1.2.0",
            "grid_template_areas": null,
            "object_position": null,
            "object_fit": null,
            "grid_auto_columns": null,
            "margin": null,
            "display": null,
            "left": null
          }
        },
        "6df8fdbef9624cd28da654c8a799d74b": {
          "model_module": "@jupyter-widgets/controls",
          "model_name": "DescriptionStyleModel",
          "model_module_version": "1.5.0",
          "state": {
            "_view_name": "StyleView",
            "_model_name": "DescriptionStyleModel",
            "description_width": "",
            "_view_module": "@jupyter-widgets/base",
            "_model_module_version": "1.5.0",
            "_view_count": null,
            "_view_module_version": "1.2.0",
            "_model_module": "@jupyter-widgets/controls"
          }
        },
        "9ede56c2a6d84e809a797c6174221545": {
          "model_module": "@jupyter-widgets/base",
          "model_name": "LayoutModel",
          "model_module_version": "1.2.0",
          "state": {
            "_view_name": "LayoutView",
            "grid_template_rows": null,
            "right": null,
            "justify_content": null,
            "_view_module": "@jupyter-widgets/base",
            "overflow": null,
            "_model_module_version": "1.2.0",
            "_view_count": null,
            "flex_flow": null,
            "width": null,
            "min_width": null,
            "border": null,
            "align_items": null,
            "bottom": null,
            "_model_module": "@jupyter-widgets/base",
            "top": null,
            "grid_column": null,
            "overflow_y": null,
            "overflow_x": null,
            "grid_auto_flow": null,
            "grid_area": null,
            "grid_template_columns": null,
            "flex": null,
            "_model_name": "LayoutModel",
            "justify_items": null,
            "grid_row": null,
            "max_height": null,
            "align_content": null,
            "visibility": null,
            "align_self": null,
            "height": null,
            "min_height": null,
            "padding": null,
            "grid_auto_rows": null,
            "grid_gap": null,
            "max_width": null,
            "order": null,
            "_view_module_version": "1.2.0",
            "grid_template_areas": null,
            "object_position": null,
            "object_fit": null,
            "grid_auto_columns": null,
            "margin": null,
            "display": null,
            "left": null
          }
        }
      }
    }
  },
  "cells": [
    {
      "cell_type": "markdown",
      "source": [
        "Installing the dependencies and cloning the model"
      ],
      "metadata": {
        "id": "0-y4Qm9jnXDr"
      }
    },
    {
      "cell_type": "code",
      "source": [
        "!git clone https://github.com/ultralytics/yolov5  # clone"
      ],
      "metadata": {
        "colab": {
          "base_uri": "https://localhost:8080/"
        },
        "id": "LkDn9nWLsFz2",
        "outputId": "5fb60b6b-d13d-4cc0-9b6f-9a2b20dabd71"
      },
      "execution_count": null,
      "outputs": [
        {
          "output_type": "stream",
          "name": "stdout",
          "text": [
            "Cloning into 'yolov5'...\n",
            "remote: Enumerating objects: 11142, done.\u001b[K\n",
            "remote: Total 11142 (delta 0), reused 0 (delta 0), pack-reused 11142\u001b[K\n",
            "Receiving objects: 100% (11142/11142), 11.09 MiB | 19.89 MiB/s, done.\n",
            "Resolving deltas: 100% (7708/7708), done.\n"
          ]
        }
      ]
    },
    {
      "cell_type": "code",
      "source": [
        "%cd yolov5"
      ],
      "metadata": {
        "colab": {
          "base_uri": "https://localhost:8080/"
        },
        "id": "NSpBymHvsJZo",
        "outputId": "9ec52d8d-4ca7-47fa-bda9-2d51bb575ea3"
      },
      "execution_count": null,
      "outputs": [
        {
          "output_type": "stream",
          "name": "stdout",
          "text": [
            "/content/yolov5\n"
          ]
        }
      ]
    },
    {
      "cell_type": "code",
      "source": [
        "!pip install -r requirements.txt  # install"
      ],
      "metadata": {
        "colab": {
          "base_uri": "https://localhost:8080/"
        },
        "id": "8eHDD92GsMng",
        "outputId": "64a526d0-f1b2-43e0-abe0-1f2b5faf9932"
      },
      "execution_count": null,
      "outputs": [
        {
          "output_type": "stream",
          "name": "stdout",
          "text": [
            "Requirement already satisfied: matplotlib>=3.2.2 in /usr/local/lib/python3.7/dist-packages (from -r requirements.txt (line 4)) (3.2.2)\n",
            "Requirement already satisfied: numpy>=1.18.5 in /usr/local/lib/python3.7/dist-packages (from -r requirements.txt (line 5)) (1.21.5)\n",
            "Requirement already satisfied: opencv-python>=4.1.2 in /usr/local/lib/python3.7/dist-packages (from -r requirements.txt (line 6)) (4.1.2.30)\n",
            "Requirement already satisfied: Pillow>=7.1.2 in /usr/local/lib/python3.7/dist-packages (from -r requirements.txt (line 7)) (7.1.2)\n",
            "Requirement already satisfied: PyYAML>=5.3.1 in /usr/local/lib/python3.7/dist-packages (from -r requirements.txt (line 8)) (6.0)\n",
            "Requirement already satisfied: requests>=2.23.0 in /usr/local/lib/python3.7/dist-packages (from -r requirements.txt (line 9)) (2.23.0)\n",
            "Requirement already satisfied: scipy>=1.4.1 in /usr/local/lib/python3.7/dist-packages (from -r requirements.txt (line 10)) (1.4.1)\n",
            "Requirement already satisfied: torch>=1.7.0 in /usr/local/lib/python3.7/dist-packages (from -r requirements.txt (line 11)) (1.10.0+cu111)\n",
            "Requirement already satisfied: torchvision>=0.8.1 in /usr/local/lib/python3.7/dist-packages (from -r requirements.txt (line 12)) (0.11.1+cu111)\n",
            "Requirement already satisfied: tqdm>=4.41.0 in /usr/local/lib/python3.7/dist-packages (from -r requirements.txt (line 13)) (4.62.3)\n",
            "Requirement already satisfied: tensorboard>=2.4.1 in /usr/local/lib/python3.7/dist-packages (from -r requirements.txt (line 16)) (2.8.0)\n",
            "Requirement already satisfied: pandas>=1.1.4 in /usr/local/lib/python3.7/dist-packages (from -r requirements.txt (line 20)) (1.3.5)\n",
            "Requirement already satisfied: seaborn>=0.11.0 in /usr/local/lib/python3.7/dist-packages (from -r requirements.txt (line 21)) (0.11.2)\n",
            "Requirement already satisfied: thop in /usr/local/lib/python3.7/dist-packages (from -r requirements.txt (line 37)) (0.0.31.post2005241907)\n",
            "Requirement already satisfied: kiwisolver>=1.0.1 in /usr/local/lib/python3.7/dist-packages (from matplotlib>=3.2.2->-r requirements.txt (line 4)) (1.3.2)\n",
            "Requirement already satisfied: python-dateutil>=2.1 in /usr/local/lib/python3.7/dist-packages (from matplotlib>=3.2.2->-r requirements.txt (line 4)) (2.8.2)\n",
            "Requirement already satisfied: pyparsing!=2.0.4,!=2.1.2,!=2.1.6,>=2.0.1 in /usr/local/lib/python3.7/dist-packages (from matplotlib>=3.2.2->-r requirements.txt (line 4)) (3.0.7)\n",
            "Requirement already satisfied: cycler>=0.10 in /usr/local/lib/python3.7/dist-packages (from matplotlib>=3.2.2->-r requirements.txt (line 4)) (0.11.0)\n",
            "Requirement already satisfied: idna<3,>=2.5 in /usr/local/lib/python3.7/dist-packages (from requests>=2.23.0->-r requirements.txt (line 9)) (2.10)\n",
            "Requirement already satisfied: chardet<4,>=3.0.2 in /usr/local/lib/python3.7/dist-packages (from requests>=2.23.0->-r requirements.txt (line 9)) (3.0.4)\n",
            "Requirement already satisfied: certifi>=2017.4.17 in /usr/local/lib/python3.7/dist-packages (from requests>=2.23.0->-r requirements.txt (line 9)) (2021.10.8)\n",
            "Requirement already satisfied: urllib3!=1.25.0,!=1.25.1,<1.26,>=1.21.1 in /usr/local/lib/python3.7/dist-packages (from requests>=2.23.0->-r requirements.txt (line 9)) (1.24.3)\n",
            "Requirement already satisfied: typing-extensions in /usr/local/lib/python3.7/dist-packages (from torch>=1.7.0->-r requirements.txt (line 11)) (3.10.0.2)\n",
            "Requirement already satisfied: tensorboard-data-server<0.7.0,>=0.6.0 in /usr/local/lib/python3.7/dist-packages (from tensorboard>=2.4.1->-r requirements.txt (line 16)) (0.6.1)\n",
            "Requirement already satisfied: google-auth-oauthlib<0.5,>=0.4.1 in /usr/local/lib/python3.7/dist-packages (from tensorboard>=2.4.1->-r requirements.txt (line 16)) (0.4.6)\n",
            "Requirement already satisfied: absl-py>=0.4 in /usr/local/lib/python3.7/dist-packages (from tensorboard>=2.4.1->-r requirements.txt (line 16)) (1.0.0)\n",
            "Requirement already satisfied: google-auth<3,>=1.6.3 in /usr/local/lib/python3.7/dist-packages (from tensorboard>=2.4.1->-r requirements.txt (line 16)) (1.35.0)\n",
            "Requirement already satisfied: protobuf>=3.6.0 in /usr/local/lib/python3.7/dist-packages (from tensorboard>=2.4.1->-r requirements.txt (line 16)) (3.17.3)\n",
            "Requirement already satisfied: setuptools>=41.0.0 in /usr/local/lib/python3.7/dist-packages (from tensorboard>=2.4.1->-r requirements.txt (line 16)) (57.4.0)\n",
            "Requirement already satisfied: tensorboard-plugin-wit>=1.6.0 in /usr/local/lib/python3.7/dist-packages (from tensorboard>=2.4.1->-r requirements.txt (line 16)) (1.8.1)\n",
            "Requirement already satisfied: grpcio>=1.24.3 in /usr/local/lib/python3.7/dist-packages (from tensorboard>=2.4.1->-r requirements.txt (line 16)) (1.44.0)\n",
            "Requirement already satisfied: werkzeug>=0.11.15 in /usr/local/lib/python3.7/dist-packages (from tensorboard>=2.4.1->-r requirements.txt (line 16)) (1.0.1)\n",
            "Requirement already satisfied: markdown>=2.6.8 in /usr/local/lib/python3.7/dist-packages (from tensorboard>=2.4.1->-r requirements.txt (line 16)) (3.3.6)\n",
            "Requirement already satisfied: wheel>=0.26 in /usr/local/lib/python3.7/dist-packages (from tensorboard>=2.4.1->-r requirements.txt (line 16)) (0.37.1)\n",
            "Requirement already satisfied: pytz>=2017.3 in /usr/local/lib/python3.7/dist-packages (from pandas>=1.1.4->-r requirements.txt (line 20)) (2018.9)\n",
            "Requirement already satisfied: six in /usr/local/lib/python3.7/dist-packages (from absl-py>=0.4->tensorboard>=2.4.1->-r requirements.txt (line 16)) (1.15.0)\n",
            "Requirement already satisfied: cachetools<5.0,>=2.0.0 in /usr/local/lib/python3.7/dist-packages (from google-auth<3,>=1.6.3->tensorboard>=2.4.1->-r requirements.txt (line 16)) (4.2.4)\n",
            "Requirement already satisfied: pyasn1-modules>=0.2.1 in /usr/local/lib/python3.7/dist-packages (from google-auth<3,>=1.6.3->tensorboard>=2.4.1->-r requirements.txt (line 16)) (0.2.8)\n",
            "Requirement already satisfied: rsa<5,>=3.1.4 in /usr/local/lib/python3.7/dist-packages (from google-auth<3,>=1.6.3->tensorboard>=2.4.1->-r requirements.txt (line 16)) (4.8)\n",
            "Requirement already satisfied: requests-oauthlib>=0.7.0 in /usr/local/lib/python3.7/dist-packages (from google-auth-oauthlib<0.5,>=0.4.1->tensorboard>=2.4.1->-r requirements.txt (line 16)) (1.3.1)\n",
            "Requirement already satisfied: importlib-metadata>=4.4 in /usr/local/lib/python3.7/dist-packages (from markdown>=2.6.8->tensorboard>=2.4.1->-r requirements.txt (line 16)) (4.11.1)\n",
            "Requirement already satisfied: zipp>=0.5 in /usr/local/lib/python3.7/dist-packages (from importlib-metadata>=4.4->markdown>=2.6.8->tensorboard>=2.4.1->-r requirements.txt (line 16)) (3.7.0)\n",
            "Requirement already satisfied: pyasn1<0.5.0,>=0.4.6 in /usr/local/lib/python3.7/dist-packages (from pyasn1-modules>=0.2.1->google-auth<3,>=1.6.3->tensorboard>=2.4.1->-r requirements.txt (line 16)) (0.4.8)\n",
            "Requirement already satisfied: oauthlib>=3.0.0 in /usr/local/lib/python3.7/dist-packages (from requests-oauthlib>=0.7.0->google-auth-oauthlib<0.5,>=0.4.1->tensorboard>=2.4.1->-r requirements.txt (line 16)) (3.2.0)\n"
          ]
        }
      ]
    },
    {
      "cell_type": "code",
      "source": [
        "from google.colab import drive\n",
        "drive.mount('/content/drive')"
      ],
      "metadata": {
        "colab": {
          "base_uri": "https://localhost:8080/"
        },
        "id": "1hKL_bnWszec",
        "outputId": "a8fcdb62-5727-44c5-d7c3-12ffd38199e7"
      },
      "execution_count": null,
      "outputs": [
        {
          "output_type": "stream",
          "name": "stdout",
          "text": [
            "Drive already mounted at /content/drive; to attempt to forcibly remount, call drive.mount(\"/content/drive\", force_remount=True).\n"
          ]
        }
      ]
    },
    {
      "cell_type": "code",
      "source": [
        "!pip install wandb"
      ],
      "metadata": {
        "colab": {
          "base_uri": "https://localhost:8080/"
        },
        "id": "RKyPfFqfs6gO",
        "outputId": "48e8f1ea-90b9-4afc-cfd4-7cbdd8f1f9a1"
      },
      "execution_count": null,
      "outputs": [
        {
          "output_type": "stream",
          "name": "stdout",
          "text": [
            "Requirement already satisfied: wandb in /usr/local/lib/python3.7/dist-packages (0.12.11)\n",
            "Requirement already satisfied: GitPython>=1.0.0 in /usr/local/lib/python3.7/dist-packages (from wandb) (3.1.27)\n",
            "Requirement already satisfied: requests<3,>=2.0.0 in /usr/local/lib/python3.7/dist-packages (from wandb) (2.23.0)\n",
            "Requirement already satisfied: promise<3,>=2.0 in /usr/local/lib/python3.7/dist-packages (from wandb) (2.3)\n",
            "Requirement already satisfied: python-dateutil>=2.6.1 in /usr/local/lib/python3.7/dist-packages (from wandb) (2.8.2)\n",
            "Requirement already satisfied: PyYAML in /usr/local/lib/python3.7/dist-packages (from wandb) (6.0)\n",
            "Requirement already satisfied: Click!=8.0.0,>=7.0 in /usr/local/lib/python3.7/dist-packages (from wandb) (7.1.2)\n",
            "Requirement already satisfied: six>=1.13.0 in /usr/local/lib/python3.7/dist-packages (from wandb) (1.15.0)\n",
            "Requirement already satisfied: sentry-sdk>=1.0.0 in /usr/local/lib/python3.7/dist-packages (from wandb) (1.5.6)\n",
            "Requirement already satisfied: pathtools in /usr/local/lib/python3.7/dist-packages (from wandb) (0.1.2)\n",
            "Requirement already satisfied: docker-pycreds>=0.4.0 in /usr/local/lib/python3.7/dist-packages (from wandb) (0.4.0)\n",
            "Requirement already satisfied: protobuf>=3.12.0 in /usr/local/lib/python3.7/dist-packages (from wandb) (3.17.3)\n",
            "Requirement already satisfied: shortuuid>=0.5.0 in /usr/local/lib/python3.7/dist-packages (from wandb) (1.0.8)\n",
            "Requirement already satisfied: psutil>=5.0.0 in /usr/local/lib/python3.7/dist-packages (from wandb) (5.4.8)\n",
            "Requirement already satisfied: yaspin>=1.0.0 in /usr/local/lib/python3.7/dist-packages (from wandb) (2.1.0)\n",
            "Requirement already satisfied: setproctitle in /usr/local/lib/python3.7/dist-packages (from wandb) (1.2.2)\n",
            "Requirement already satisfied: typing-extensions>=3.7.4.3 in /usr/local/lib/python3.7/dist-packages (from GitPython>=1.0.0->wandb) (3.10.0.2)\n",
            "Requirement already satisfied: gitdb<5,>=4.0.1 in /usr/local/lib/python3.7/dist-packages (from GitPython>=1.0.0->wandb) (4.0.9)\n",
            "Requirement already satisfied: smmap<6,>=3.0.1 in /usr/local/lib/python3.7/dist-packages (from gitdb<5,>=4.0.1->GitPython>=1.0.0->wandb) (5.0.0)\n",
            "Requirement already satisfied: certifi>=2017.4.17 in /usr/local/lib/python3.7/dist-packages (from requests<3,>=2.0.0->wandb) (2021.10.8)\n",
            "Requirement already satisfied: chardet<4,>=3.0.2 in /usr/local/lib/python3.7/dist-packages (from requests<3,>=2.0.0->wandb) (3.0.4)\n",
            "Requirement already satisfied: idna<3,>=2.5 in /usr/local/lib/python3.7/dist-packages (from requests<3,>=2.0.0->wandb) (2.10)\n",
            "Requirement already satisfied: urllib3!=1.25.0,!=1.25.1,<1.26,>=1.21.1 in /usr/local/lib/python3.7/dist-packages (from requests<3,>=2.0.0->wandb) (1.24.3)\n",
            "Requirement already satisfied: termcolor<2.0.0,>=1.1.0 in /usr/local/lib/python3.7/dist-packages (from yaspin>=1.0.0->wandb) (1.1.0)\n"
          ]
        }
      ]
    },
    {
      "cell_type": "markdown",
      "source": [
        "Transferring data from drive into colab instance"
      ],
      "metadata": {
        "id": "NS7L9BlRnebQ"
      }
    },
    {
      "cell_type": "code",
      "source": [
        "import torch\n",
        "import numpy as np\n",
        "import cv2\n",
        "import matplotlib.pyplot as plt"
      ],
      "metadata": {
        "id": "Q1ztY4n-sNsb"
      },
      "execution_count": null,
      "outputs": []
    },
    {
      "cell_type": "code",
      "source": [
        "# Changes the yaml file"
      ],
      "metadata": {
        "id": "R1_WpmJIJd3W"
      },
      "execution_count": null,
      "outputs": []
    },
    {
      "cell_type": "code",
      "source": [
        "mask_detector = torch.hub.load('ultralytics/yolov5', 'yolov5s_custom')"
      ],
      "metadata": {
        "colab": {
          "base_uri": "https://localhost:8080/",
          "height": 430,
          "referenced_widgets": [
            "48c58c5197f049a3be3643e26c7d48db",
            "80997d03f5db4b79a300583132110225",
            "78d8ee21a210402fb53eb5422180d1ac",
            "e6b779b796ee4ae581061103f448d47f",
            "07baa6804a89495c8778d84d2c222837",
            "ccd8bee6914046cca436298a07cc7015",
            "99738a73425d4df3afd57d10d43da305",
            "8ebb260f336949818d9728d80de5393b",
            "76a2074db66442e7aa474ad7d57b59d1",
            "6df8fdbef9624cd28da654c8a799d74b",
            "9ede56c2a6d84e809a797c6174221545"
          ]
        },
        "id": "Wpzqn5AHvRX7",
        "outputId": "a02c1ff1-70c2-4f55-935d-a9cbea3082ed"
      },
      "execution_count": null,
      "outputs": [
        {
          "output_type": "stream",
          "name": "stderr",
          "text": [
            "Downloading: \"https://github.com/ultralytics/yolov5/archive/master.zip\" to /root/.cache/torch/hub/master.zip\n",
            "Downloading https://ultralytics.com/assets/Arial.ttf to /root/.config/Ultralytics/Arial.ttf...\n",
            "\u001b[31m\u001b[1mrequirements:\u001b[0m PyYAML>=5.3.1 not found and is required by YOLOv5, attempting auto-update...\n",
            "Collecting PyYAML>=5.3.1\n",
            "  Downloading PyYAML-6.0-cp37-cp37m-manylinux_2_5_x86_64.manylinux1_x86_64.manylinux_2_12_x86_64.manylinux2010_x86_64.whl (596 kB)\n",
            "Installing collected packages: PyYAML\n",
            "  Attempting uninstall: PyYAML\n",
            "    Found existing installation: PyYAML 3.13\n",
            "    Uninstalling PyYAML-3.13:\n",
            "      Successfully uninstalled PyYAML-3.13\n",
            "Successfully installed PyYAML-6.0\n",
            "\n",
            "\u001b[31m\u001b[1mrequirements:\u001b[0m 1 package updated per /root/.cache/torch/hub/ultralytics_yolov5_master/requirements.txt\n",
            "\u001b[31m\u001b[1mrequirements:\u001b[0m ⚠️ \u001b[1mRestart runtime or rerun command for updates to take effect\u001b[0m\n",
            "\n",
            "YOLOv5 🚀 2022-3-7 torch 1.10.0+cu111 CUDA:0 (Tesla K80, 11441MiB)\n",
            "\n"
          ]
        },
        {
          "output_type": "stream",
          "name": "stdout",
          "text": [
            "Downloading https://github.com/ultralytics/yolov5/releases/download/v6.1/yolov5s.pt to yolov5s.pt...\n"
          ]
        },
        {
          "output_type": "display_data",
          "data": {
            "application/vnd.jupyter.widget-view+json": {
              "model_id": "48c58c5197f049a3be3643e26c7d48db",
              "version_minor": 0,
              "version_major": 2
            },
            "text/plain": [
              "  0%|          | 0.00/14.1M [00:00<?, ?B/s]"
            ]
          },
          "metadata": {}
        },
        {
          "output_type": "stream",
          "name": "stderr",
          "text": [
            "Fusing layers... \n"
          ]
        },
        {
          "output_type": "stream",
          "name": "stdout",
          "text": [
            "\n"
          ]
        },
        {
          "output_type": "stream",
          "name": "stderr",
          "text": [
            "Model Summary: 213 layers, 7225885 parameters, 0 gradients\n",
            "Adding AutoShape... \n"
          ]
        }
      ]
    },
    {
      "cell_type": "code",
      "source": [
        "mask_detector"
      ],
      "metadata": {
        "id": "GfbrzptKxc9W"
      },
      "execution_count": null,
      "outputs": []
    },
    {
      "cell_type": "code",
      "source": [
        "import os\n",
        "import shutil\n",
        "\n",
        "project_data = r'/content/drive/MyDrive/aps360/Primary model/Project data'\n",
        "temp_folder = r'/content/yolov5/data'"
      ],
      "metadata": {
        "id": "-Rs3UCzaxpp5"
      },
      "execution_count": null,
      "outputs": []
    },
    {
      "cell_type": "code",
      "source": [
        "os.chdir(temp_folder + '/' + 'images') # Image directory\n",
        "format = 'jpg' # Format of images\n",
        "\n",
        "for image in os.listdir(temp_folder + '/' + 'images'):\n",
        "  if image[-3:] == format:\n",
        "    os.remove(temp_folder + '/' + 'images' + '/' + image)\n",
        "\n",
        "print(\"Images folder cleaned. Ready for a fresh upload\")"
      ],
      "metadata": {
        "colab": {
          "base_uri": "https://localhost:8080/"
        },
        "id": "jlPG89Cv5Kv1",
        "outputId": "da60e7a8-def4-4a09-9dcf-b418393f8195"
      },
      "execution_count": null,
      "outputs": [
        {
          "output_type": "stream",
          "name": "stdout",
          "text": [
            "Images folder cleaned. Ready for a fresh upload\n"
          ]
        }
      ]
    },
    {
      "cell_type": "code",
      "source": [
        "# Copying image files\n",
        "\n",
        "count = 0\n",
        "for image in os.listdir(project_data + '/' + 'images'):\n",
        "  shutil.copyfile(project_data + '/' + 'images' + '/' + image, temp_folder + '/' + 'images' + '/' + image)\n",
        "  count += 1\n",
        "\n",
        "print(count, ' files copied')"
      ],
      "metadata": {
        "colab": {
          "base_uri": "https://localhost:8080/"
        },
        "id": "7-u0i-qz3YsA",
        "outputId": "b24d5240-70f6-4fad-e5ac-a49a9466b0de"
      },
      "execution_count": null,
      "outputs": [
        {
          "output_type": "stream",
          "name": "stdout",
          "text": [
            "853  files copied\n"
          ]
        }
      ]
    },
    {
      "cell_type": "code",
      "source": [
        "# Copying text files\n",
        "\n",
        "count = 0\n",
        "\n",
        "os.mkdir(temp_folder + '/' + 'labels')\n",
        "for lbl in os.listdir(project_data + '/' + 'labels'):\n",
        "  shutil.copyfile(project_data + '/' + 'labels' + '/' + lbl, temp_folder + '/' + 'labels' + '/' + lbl)\n",
        "  count += 1\n",
        "\n",
        "print(count, ' files copied')"
      ],
      "metadata": {
        "colab": {
          "base_uri": "https://localhost:8080/"
        },
        "id": "_-10k7eG3eYG",
        "outputId": "2208a6e8-9af4-4f04-ebe4-1f485739f8e5"
      },
      "execution_count": null,
      "outputs": [
        {
          "output_type": "stream",
          "name": "stdout",
          "text": [
            "853  files copied\n"
          ]
        }
      ]
    },
    {
      "cell_type": "markdown",
      "source": [
        "Model Training"
      ],
      "metadata": {
        "id": "50JBJeqmnqEQ"
      }
    },
    {
      "cell_type": "code",
      "source": [
        "# Upload classes.names under data/labels"
      ],
      "metadata": {
        "id": "5ijlPqDk6w6X"
      },
      "execution_count": null,
      "outputs": []
    },
    {
      "cell_type": "code",
      "source": [
        "%cd /content/yolov5"
      ],
      "metadata": {
        "colab": {
          "base_uri": "https://localhost:8080/"
        },
        "id": "mn8eLmIz7luq",
        "outputId": "2838fecd-84ac-44e2-f63b-dea40252d721"
      },
      "execution_count": null,
      "outputs": [
        {
          "output_type": "stream",
          "name": "stdout",
          "text": [
            "/content/yolov5\n"
          ]
        }
      ]
    },
    {
      "cell_type": "code",
      "source": [
        "# Upload the dataset.yaml file within the yolov5 folder"
      ],
      "metadata": {
        "id": "F77zhDC0-Xpr"
      },
      "execution_count": null,
      "outputs": []
    },
    {
      "cell_type": "code",
      "source": [
        "!python train.py --img 320 --batch 8 --epochs 30 --data dataset.yaml --weights yolov5s.pt"
      ],
      "metadata": {
        "colab": {
          "base_uri": "https://localhost:8080/"
        },
        "id": "NEH2J9cy8Kxh",
        "outputId": "6576f919-e1a1-466c-878e-14ff6d45cd8b"
      },
      "execution_count": null,
      "outputs": [
        {
          "output_type": "stream",
          "name": "stdout",
          "text": [
            "\u001b[34m\u001b[1mwandb\u001b[0m: Currently logged in as: \u001b[33mpandyah5\u001b[0m (use `wandb login --relogin` to force relogin)\n",
            "\u001b[34m\u001b[1mtrain: \u001b[0mweights=yolov5s.pt, cfg=, data=dataset.yaml, hyp=data/hyps/hyp.scratch-low.yaml, epochs=30, batch_size=8, imgsz=320, rect=False, resume=False, nosave=False, noval=False, noautoanchor=False, evolve=None, bucket=, cache=None, image_weights=False, device=, multi_scale=False, single_cls=False, optimizer=SGD, sync_bn=False, workers=8, project=runs/train, name=exp, exist_ok=False, quad=False, cos_lr=False, label_smoothing=0.0, patience=100, freeze=[0], save_period=-1, local_rank=-1, entity=None, upload_dataset=False, bbox_interval=-1, artifact_alias=latest\n",
            "\u001b[34m\u001b[1mgithub: \u001b[0mup to date with https://github.com/ultralytics/yolov5 ✅\n",
            "YOLOv5 🚀 v6.1-11-g63ddb6f torch 1.10.0+cu111 CUDA:0 (Tesla K80, 11441MiB)\n",
            "\n",
            "\u001b[34m\u001b[1mhyperparameters: \u001b[0mlr0=0.01, lrf=0.01, momentum=0.937, weight_decay=0.0005, warmup_epochs=3.0, warmup_momentum=0.8, warmup_bias_lr=0.1, box=0.05, cls=0.5, cls_pw=1.0, obj=1.0, obj_pw=1.0, iou_t=0.2, anchor_t=4.0, fl_gamma=0.0, hsv_h=0.015, hsv_s=0.7, hsv_v=0.4, degrees=0.0, translate=0.1, scale=0.5, shear=0.0, perspective=0.0, flipud=0.0, fliplr=0.5, mosaic=1.0, mixup=0.0, copy_paste=0.0\n",
            "\u001b[34m\u001b[1mTensorBoard: \u001b[0mStart with 'tensorboard --logdir runs/train', view at http://localhost:6006/\n",
            "\u001b[34m\u001b[1mwandb\u001b[0m: Tracking run with wandb version 0.12.11\n",
            "\u001b[34m\u001b[1mwandb\u001b[0m: Run data is saved locally in \u001b[35m\u001b[1m/content/yolov5/wandb/run-20220303_023313-12ikr9fv\u001b[0m\n",
            "\u001b[34m\u001b[1mwandb\u001b[0m: Run \u001b[1m`wandb offline`\u001b[0m to turn off syncing.\n",
            "\u001b[34m\u001b[1mwandb\u001b[0m: Syncing run \u001b[33msage-sea-4\u001b[0m\n",
            "\u001b[34m\u001b[1mwandb\u001b[0m: ⭐️ View project at \u001b[34m\u001b[4mhttps://wandb.ai/pandyah5/YOLOv5\u001b[0m\n",
            "\u001b[34m\u001b[1mwandb\u001b[0m: 🚀 View run at \u001b[34m\u001b[4mhttps://wandb.ai/pandyah5/YOLOv5/runs/12ikr9fv\u001b[0m\n",
            "Overriding model.yaml nc=80 with nc=3\n",
            "\n",
            "                 from  n    params  module                                  arguments                     \n",
            "  0                -1  1      3520  models.common.Conv                      [3, 32, 6, 2, 2]              \n",
            "  1                -1  1     18560  models.common.Conv                      [32, 64, 3, 2]                \n",
            "  2                -1  1     18816  models.common.C3                        [64, 64, 1]                   \n",
            "  3                -1  1     73984  models.common.Conv                      [64, 128, 3, 2]               \n",
            "  4                -1  2    115712  models.common.C3                        [128, 128, 2]                 \n",
            "  5                -1  1    295424  models.common.Conv                      [128, 256, 3, 2]              \n",
            "  6                -1  3    625152  models.common.C3                        [256, 256, 3]                 \n",
            "  7                -1  1   1180672  models.common.Conv                      [256, 512, 3, 2]              \n",
            "  8                -1  1   1182720  models.common.C3                        [512, 512, 1]                 \n",
            "  9                -1  1    656896  models.common.SPPF                      [512, 512, 5]                 \n",
            " 10                -1  1    131584  models.common.Conv                      [512, 256, 1, 1]              \n",
            " 11                -1  1         0  torch.nn.modules.upsampling.Upsample    [None, 2, 'nearest']          \n",
            " 12           [-1, 6]  1         0  models.common.Concat                    [1]                           \n",
            " 13                -1  1    361984  models.common.C3                        [512, 256, 1, False]          \n",
            " 14                -1  1     33024  models.common.Conv                      [256, 128, 1, 1]              \n",
            " 15                -1  1         0  torch.nn.modules.upsampling.Upsample    [None, 2, 'nearest']          \n",
            " 16           [-1, 4]  1         0  models.common.Concat                    [1]                           \n",
            " 17                -1  1     90880  models.common.C3                        [256, 128, 1, False]          \n",
            " 18                -1  1    147712  models.common.Conv                      [128, 128, 3, 2]              \n",
            " 19          [-1, 14]  1         0  models.common.Concat                    [1]                           \n",
            " 20                -1  1    296448  models.common.C3                        [256, 256, 1, False]          \n",
            " 21                -1  1    590336  models.common.Conv                      [256, 256, 3, 2]              \n",
            " 22          [-1, 10]  1         0  models.common.Concat                    [1]                           \n",
            " 23                -1  1   1182720  models.common.C3                        [512, 512, 1, False]          \n",
            " 24      [17, 20, 23]  1     21576  models.yolo.Detect                      [3, [[10, 13, 16, 30, 33, 23], [30, 61, 62, 45, 59, 119], [116, 90, 156, 198, 373, 326]], [128, 256, 512]]\n",
            "Model Summary: 270 layers, 7027720 parameters, 7027720 gradients, 15.9 GFLOPs\n",
            "\n",
            "Transferred 343/349 items from yolov5s.pt\n",
            "Scaled weight_decay = 0.0005\n",
            "\u001b[34m\u001b[1moptimizer:\u001b[0m SGD with parameter groups 57 weight (no decay), 60 weight, 60 bias\n",
            "\u001b[34m\u001b[1malbumentations: \u001b[0mversion 1.0.3 required by YOLOv5, but version 0.1.12 is currently installed\n",
            "\u001b[34m\u001b[1mtrain: \u001b[0mScanning '/content/yolov5/data/labels.cache' images and labels... 853 found, 0 missing, 0 empty, 0 corrupt: 100% 853/853 [00:00<?, ?it/s]\n",
            "\u001b[34m\u001b[1mval: \u001b[0mScanning '/content/yolov5/data/labels.cache' images and labels... 853 found, 0 missing, 0 empty, 0 corrupt: 100% 853/853 [00:00<?, ?it/s]\n",
            "Plotting labels to runs/train/exp2/labels.jpg... \n",
            "\n",
            "\u001b[34m\u001b[1mAutoAnchor: \u001b[0m4.37 anchors/target, 0.997 Best Possible Recall (BPR). Current anchors are a good fit to dataset ✅\n",
            "Image sizes 320 train, 320 val\n",
            "Using 2 dataloader workers\n",
            "Logging results to \u001b[1mruns/train/exp2\u001b[0m\n",
            "Starting training for 30 epochs...\n",
            "\n",
            "     Epoch   gpu_mem       box       obj       cls    labels  img_size\n",
            "      0/29    0.495G     0.123   0.02404   0.04146        31       320:  22% 24/107 [00:11<00:30,  2.68it/s]libpng warning: iCCP: Not recognizing known sRGB profile that has been edited\n",
            "      0/29    0.495G    0.1222   0.02443   0.04091        65       320:  27% 29/107 [00:13<00:33,  2.32it/s]libpng warning: iCCP: Not recognizing known sRGB profile that has been edited\n",
            "      0/29    0.495G    0.1219   0.02462   0.04051        69       320:  32% 34/107 [00:15<00:28,  2.56it/s]libpng warning: iCCP: Not recognizing known sRGB profile that has been edited\n",
            "      0/29    0.495G    0.1206   0.02547   0.03941        40       320:  42% 45/107 [00:20<00:27,  2.28it/s]libpng warning: iCCP: Not recognizing known sRGB profile that has been edited\n",
            "      0/29    0.495G    0.1121   0.03087   0.03278        61       320:  97% 104/107 [00:43<00:01,  2.78it/s]libpng warning: iCCP: Not recognizing known sRGB profile that has been edited\n",
            "      0/29    0.518G    0.1115    0.0312   0.03255        30       320: 100% 107/107 [00:45<00:00,  2.37it/s]\n",
            "               Class     Images     Labels          P          R     mAP@.5 mAP@.5:.95:  44% 24/54 [00:07<00:09,  3.32it/s]libpng warning: iCCP: Not recognizing known sRGB profile that has been edited\n",
            "               Class     Images     Labels          P          R     mAP@.5 mAP@.5:.95: 100% 54/54 [00:15<00:00,  3.55it/s]\n",
            "                 all        853       4072     0.0307     0.0694     0.0167    0.00301\n",
            "\n",
            "     Epoch   gpu_mem       box       obj       cls    labels  img_size\n",
            "      1/29    0.686G   0.08935   0.03375   0.02093        91       320:  50% 54/107 [00:20<00:19,  2.78it/s]libpng warning: iCCP: Not recognizing known sRGB profile that has been edited\n",
            "      1/29    0.686G   0.08858   0.03305    0.0205        70       320:  61% 65/107 [00:25<00:17,  2.43it/s]libpng warning: iCCP: Not recognizing known sRGB profile that has been edited\n",
            "      1/29    0.686G    0.0862   0.03173   0.02036        48       320:  93% 100/107 [00:38<00:02,  2.84it/s]libpng warning: iCCP: Not recognizing known sRGB profile that has been edited\n",
            "      1/29    0.688G     0.086   0.03159    0.0203        66       320: 100% 107/107 [00:41<00:00,  2.60it/s]\n",
            "               Class     Images     Labels          P          R     mAP@.5 mAP@.5:.95:  46% 25/54 [00:07<00:08,  3.43it/s]libpng warning: iCCP: Not recognizing known sRGB profile that has been edited\n",
            "               Class     Images     Labels          P          R     mAP@.5 mAP@.5:.95: 100% 54/54 [00:14<00:00,  3.73it/s]\n",
            "                 all        853       4072      0.791      0.124      0.108     0.0243\n",
            "\n",
            "     Epoch   gpu_mem       box       obj       cls    labels  img_size\n",
            "      2/29    0.688G   0.07965   0.03217   0.02062        37       320:   3% 3/107 [00:00<00:30,  3.36it/s]libpng warning: iCCP: Not recognizing known sRGB profile that has been edited\n",
            "      2/29    0.688G   0.08055   0.03135   0.02003        73       320:   7% 7/107 [00:02<00:33,  2.97it/s]libpng warning: iCCP: Not recognizing known sRGB profile that has been edited\n",
            "      2/29    0.688G   0.07877   0.02779   0.01767        37       320: 100% 107/107 [00:41<00:00,  2.61it/s]\n",
            "               Class     Images     Labels          P          R     mAP@.5 mAP@.5:.95:  46% 25/54 [00:07<00:08,  3.50it/s]libpng warning: iCCP: Not recognizing known sRGB profile that has been edited\n",
            "               Class     Images     Labels          P          R     mAP@.5 mAP@.5:.95: 100% 54/54 [00:14<00:00,  3.60it/s]\n",
            "                 all        853       4072      0.495      0.261      0.131     0.0295\n",
            "\n",
            "     Epoch   gpu_mem       box       obj       cls    labels  img_size\n",
            "      3/29    0.688G   0.06465   0.03046   0.01794        79       320:   9% 10/107 [00:03<00:36,  2.67it/s]libpng warning: iCCP: Not recognizing known sRGB profile that has been edited\n",
            "      3/29    0.688G   0.07198   0.03004   0.01776       110       320:  29% 31/107 [00:11<00:28,  2.66it/s]libpng warning: iCCP: Not recognizing known sRGB profile that has been edited\n",
            "      3/29    0.688G   0.06957   0.02992   0.01714        60       320:  55% 59/107 [00:22<00:18,  2.58it/s]libpng warning: iCCP: Not recognizing known sRGB profile that has been edited\n",
            "      3/29    0.688G    0.0664   0.02878   0.01594        31       320: 100% 107/107 [00:41<00:00,  2.59it/s]\n",
            "               Class     Images     Labels          P          R     mAP@.5 mAP@.5:.95:  46% 25/54 [00:07<00:08,  3.58it/s]libpng warning: iCCP: Not recognizing known sRGB profile that has been edited\n",
            "               Class     Images     Labels          P          R     mAP@.5 mAP@.5:.95: 100% 54/54 [00:14<00:00,  3.85it/s]\n",
            "                 all        853       4072      0.584      0.391      0.318      0.131\n",
            "\n",
            "     Epoch   gpu_mem       box       obj       cls    labels  img_size\n",
            "      4/29    0.688G   0.06328   0.02737   0.01551        72       320:   7% 8/107 [00:02<00:32,  3.05it/s]libpng warning: iCCP: Not recognizing known sRGB profile that has been edited\n",
            "      4/29    0.688G   0.06608   0.02732    0.0142        76       320:  25% 27/107 [00:10<00:28,  2.80it/s]libpng warning: iCCP: Not recognizing known sRGB profile that has been edited\n",
            "      4/29    0.688G    0.0641   0.02654    0.0141        85       320:  44% 47/107 [00:17<00:21,  2.80it/s]libpng warning: iCCP: Not recognizing known sRGB profile that has been edited\n",
            "      4/29    0.688G   0.06098   0.02562   0.01364        53       320:  89% 95/107 [00:36<00:04,  2.61it/s]libpng warning: iCCP: Not recognizing known sRGB profile that has been edited\n",
            "      4/29    0.688G   0.06085   0.02566   0.01355        70       320:  91% 97/107 [00:37<00:03,  2.63it/s]libpng warning: iCCP: Not recognizing known sRGB profile that has been edited\n",
            "      4/29    0.688G   0.06068   0.02556   0.01337        63       320: 100% 107/107 [00:41<00:00,  2.60it/s]\n",
            "               Class     Images     Labels          P          R     mAP@.5 mAP@.5:.95:  44% 24/54 [00:06<00:07,  3.82it/s]libpng warning: iCCP: Not recognizing known sRGB profile that has been edited\n",
            "               Class     Images     Labels          P          R     mAP@.5 mAP@.5:.95: 100% 54/54 [00:14<00:00,  3.84it/s]\n",
            "                 all        853       4072      0.614      0.349      0.283     0.0782\n",
            "\n",
            "     Epoch   gpu_mem       box       obj       cls    labels  img_size\n",
            "      5/29    0.688G   0.05882   0.02481   0.01075        60       320:   5% 5/107 [00:01<00:29,  3.45it/s]libpng warning: iCCP: Not recognizing known sRGB profile that has been edited\n",
            "      5/29    0.688G   0.05036    0.0246   0.01239        68       320:  27% 29/107 [00:10<00:32,  2.37it/s]libpng warning: iCCP: Not recognizing known sRGB profile that has been edited\n",
            "      5/29    0.688G   0.05077   0.02471   0.01154        56       320:  96% 103/107 [00:40<00:01,  2.47it/s]libpng warning: iCCP: Not recognizing known sRGB profile that has been edited\n",
            "      5/29    0.688G   0.05078   0.02451   0.01149        21       320: 100% 107/107 [00:41<00:00,  2.57it/s]\n",
            "               Class     Images     Labels          P          R     mAP@.5 mAP@.5:.95:  46% 25/54 [00:07<00:07,  3.64it/s]libpng warning: iCCP: Not recognizing known sRGB profile that has been edited\n",
            "               Class     Images     Labels          P          R     mAP@.5 mAP@.5:.95: 100% 54/54 [00:14<00:00,  3.72it/s]\n",
            "                 all        853       4072      0.742      0.432      0.425       0.19\n",
            "\n",
            "     Epoch   gpu_mem       box       obj       cls    labels  img_size\n",
            "      6/29    0.688G   0.04963   0.02416   0.01059        46       320:  22% 24/107 [00:08<00:32,  2.53it/s]libpng warning: iCCP: Not recognizing known sRGB profile that has been edited\n",
            "      6/29    0.688G   0.04922   0.02358  0.009838        28       320: 100% 107/107 [00:41<00:00,  2.56it/s]\n",
            "               Class     Images     Labels          P          R     mAP@.5 mAP@.5:.95:  46% 25/54 [00:06<00:07,  3.89it/s]libpng warning: iCCP: Not recognizing known sRGB profile that has been edited\n",
            "               Class     Images     Labels          P          R     mAP@.5 mAP@.5:.95: 100% 54/54 [00:13<00:00,  3.89it/s]\n",
            "                 all        853       4072      0.875      0.434      0.499      0.234\n",
            "\n",
            "     Epoch   gpu_mem       box       obj       cls    labels  img_size\n",
            "      7/29    0.688G   0.04619   0.02394   0.00951        67       320:  46% 49/107 [00:19<00:24,  2.39it/s]libpng warning: iCCP: Not recognizing known sRGB profile that has been edited\n",
            "      7/29    0.688G   0.04635   0.02408  0.009497        66       320:  49% 52/107 [00:20<00:20,  2.66it/s]libpng warning: iCCP: Not recognizing known sRGB profile that has been edited\n",
            "      7/29    0.688G   0.04671   0.02401   0.01002        68       320:  68% 73/107 [00:28<00:13,  2.44it/s]libpng warning: iCCP: Not recognizing known sRGB profile that has been edited\n",
            "      7/29    0.688G   0.04654   0.02369  0.009773        87       320:  83% 89/107 [00:34<00:07,  2.56it/s]libpng warning: iCCP: Not recognizing known sRGB profile that has been edited\n",
            "      7/29    0.688G   0.04634   0.02335  0.009618        19       320: 100% 107/107 [00:41<00:00,  2.61it/s]\n",
            "               Class     Images     Labels          P          R     mAP@.5 mAP@.5:.95:  46% 25/54 [00:06<00:07,  3.75it/s]libpng warning: iCCP: Not recognizing known sRGB profile that has been edited\n",
            "               Class     Images     Labels          P          R     mAP@.5 mAP@.5:.95: 100% 54/54 [00:13<00:00,  3.93it/s]\n",
            "                 all        853       4072      0.869       0.48      0.526      0.285\n",
            "\n",
            "     Epoch   gpu_mem       box       obj       cls    labels  img_size\n",
            "      8/29    0.688G   0.04146   0.02162   0.01425        52       320:   4% 4/107 [00:01<00:30,  3.33it/s]libpng warning: iCCP: Not recognizing known sRGB profile that has been edited\n",
            "      8/29    0.688G   0.04086   0.02291  0.009241       106       320:  39% 42/107 [00:15<00:23,  2.71it/s]libpng warning: iCCP: Not recognizing known sRGB profile that has been edited\n",
            "      8/29    0.688G   0.04134   0.02266  0.009281        72       320:  44% 47/107 [00:17<00:24,  2.50it/s]libpng warning: iCCP: Not recognizing known sRGB profile that has been edited\n",
            "      8/29    0.688G   0.04155   0.02215  0.008832        32       320: 100% 107/107 [00:40<00:00,  2.61it/s]\n",
            "               Class     Images     Labels          P          R     mAP@.5 mAP@.5:.95:  46% 25/54 [00:07<00:07,  3.73it/s]libpng warning: iCCP: Not recognizing known sRGB profile that has been edited\n",
            "               Class     Images     Labels          P          R     mAP@.5 mAP@.5:.95: 100% 54/54 [00:14<00:00,  3.77it/s]\n",
            "                 all        853       4072      0.843      0.479      0.533      0.277\n",
            "\n",
            "     Epoch   gpu_mem       box       obj       cls    labels  img_size\n",
            "      9/29    0.688G   0.04089   0.02195  0.008216        60       320:  26% 28/107 [00:10<00:32,  2.44it/s]libpng warning: iCCP: Not recognizing known sRGB profile that has been edited\n",
            "      9/29    0.688G   0.04033   0.02151  0.008183        60       320:  34% 36/107 [00:13<00:25,  2.73it/s]libpng warning: iCCP: Not recognizing known sRGB profile that has been edited\n",
            "      9/29    0.688G   0.04015    0.0219  0.008064        52       320:  41% 44/107 [00:17<00:24,  2.52it/s]libpng warning: iCCP: Not recognizing known sRGB profile that has been edited\n",
            "      9/29    0.688G   0.04019   0.02172  0.008621        35       320:  56% 60/107 [00:23<00:17,  2.69it/s]libpng warning: iCCP: Not recognizing known sRGB profile that has been edited\n",
            "      9/29    0.688G    0.0398   0.02178  0.008852        18       320: 100% 107/107 [00:42<00:00,  2.50it/s]\n",
            "               Class     Images     Labels          P          R     mAP@.5 mAP@.5:.95:  46% 25/54 [00:07<00:08,  3.42it/s]libpng warning: iCCP: Not recognizing known sRGB profile that has been edited\n",
            "               Class     Images     Labels          P          R     mAP@.5 mAP@.5:.95: 100% 54/54 [00:14<00:00,  3.81it/s]\n",
            "                 all        853       4072      0.881      0.494      0.552      0.302\n",
            "\n",
            "     Epoch   gpu_mem       box       obj       cls    labels  img_size\n",
            "     10/29    0.688G   0.03798   0.02104  0.008271        90       320:  21% 23/107 [00:08<00:32,  2.62it/s]libpng warning: iCCP: Not recognizing known sRGB profile that has been edited\n",
            "     10/29    0.688G   0.03807   0.02095  0.008762        50       320:  33% 35/107 [00:13<00:32,  2.23it/s]libpng warning: iCCP: Not recognizing known sRGB profile that has been edited\n",
            "     10/29    0.688G   0.03847   0.02119  0.008878       107       320:  37% 40/107 [00:15<00:27,  2.41it/s]libpng warning: iCCP: Not recognizing known sRGB profile that has been edited\n",
            "     10/29    0.688G   0.03955   0.02122  0.008504        82       320:  82% 88/107 [00:35<00:08,  2.28it/s]libpng warning: iCCP: Not recognizing known sRGB profile that has been edited\n",
            "     10/29    0.688G   0.03974   0.02137  0.008505       131       320:  86% 92/107 [00:37<00:06,  2.27it/s]libpng warning: iCCP: Not recognizing known sRGB profile that has been edited\n",
            "     10/29    0.688G   0.03989   0.02182  0.008399        66       320:  94% 101/107 [00:40<00:02,  2.61it/s]libpng warning: iCCP: Not recognizing known sRGB profile that has been edited\n",
            "     10/29    0.688G   0.03993   0.02206  0.008379        33       320: 100% 107/107 [00:43<00:00,  2.48it/s]\n",
            "               Class     Images     Labels          P          R     mAP@.5 mAP@.5:.95:  46% 25/54 [00:07<00:08,  3.40it/s]libpng warning: iCCP: Not recognizing known sRGB profile that has been edited\n",
            "               Class     Images     Labels          P          R     mAP@.5 mAP@.5:.95: 100% 54/54 [00:14<00:00,  3.70it/s]\n",
            "                 all        853       4072      0.881      0.518      0.577      0.314\n",
            "\n",
            "     Epoch   gpu_mem       box       obj       cls    labels  img_size\n",
            "     11/29    0.688G   0.03704   0.02161  0.008392        30       320:   3% 3/107 [00:00<00:31,  3.26it/s]libpng warning: iCCP: Not recognizing known sRGB profile that has been edited\n",
            "     11/29    0.688G   0.03783    0.0218  0.008338        94       320:  35% 37/107 [00:14<00:31,  2.23it/s]libpng warning: iCCP: Not recognizing known sRGB profile that has been edited\n",
            "     11/29    0.688G   0.03801   0.02184  0.008235        90       320:  42% 45/107 [00:17<00:27,  2.26it/s]libpng warning: iCCP: Not recognizing known sRGB profile that has been edited\n",
            "     11/29    0.688G    0.0385   0.02176  0.008148        54       320:  82% 88/107 [00:35<00:07,  2.57it/s]libpng warning: iCCP: Not recognizing known sRGB profile that has been edited\n",
            "     11/29    0.688G   0.03854   0.02172  0.008082        82       320:  88% 94/107 [00:37<00:05,  2.59it/s]libpng warning: iCCP: Not recognizing known sRGB profile that has been edited\n",
            "     11/29    0.688G   0.03845   0.02186  0.007922        73       320:  97% 104/107 [00:41<00:01,  2.66it/s]libpng warning: iCCP: Not recognizing known sRGB profile that has been edited\n",
            "     11/29    0.688G   0.03841    0.0218  0.007854        43       320: 100% 107/107 [00:42<00:00,  2.50it/s]\n",
            "               Class     Images     Labels          P          R     mAP@.5 mAP@.5:.95:  46% 25/54 [00:07<00:07,  3.64it/s]libpng warning: iCCP: Not recognizing known sRGB profile that has been edited\n",
            "               Class     Images     Labels          P          R     mAP@.5 mAP@.5:.95: 100% 54/54 [00:14<00:00,  3.60it/s]\n",
            "                 all        853       4072      0.891      0.513      0.577      0.324\n",
            "\n",
            "     Epoch   gpu_mem       box       obj       cls    labels  img_size\n",
            "     12/29    0.688G   0.04094    0.0219  0.007661        56       320:  21% 23/107 [00:08<00:32,  2.58it/s]libpng warning: iCCP: Not recognizing known sRGB profile that has been edited\n",
            "     12/29    0.688G   0.03886   0.02108  0.007399        51       320:  58% 62/107 [00:24<00:18,  2.40it/s]libpng warning: iCCP: Not recognizing known sRGB profile that has been edited\n",
            "     12/29    0.688G   0.03868   0.02105   0.00747        62       320:  60% 64/107 [00:25<00:17,  2.41it/s]libpng warning: iCCP: Not recognizing known sRGB profile that has been edited\n",
            "     12/29    0.688G   0.03837   0.02085  0.007649        38       320:  81% 87/107 [00:34<00:07,  2.73it/s]libpng warning: iCCP: Not recognizing known sRGB profile that has been edited\n",
            "     12/29    0.688G   0.03783   0.02067  0.007534        65       320: 100% 107/107 [00:42<00:00,  2.50it/s]\n",
            "               Class     Images     Labels          P          R     mAP@.5 mAP@.5:.95:  46% 25/54 [00:07<00:08,  3.57it/s]libpng warning: iCCP: Not recognizing known sRGB profile that has been edited\n",
            "               Class     Images     Labels          P          R     mAP@.5 mAP@.5:.95: 100% 54/54 [00:14<00:00,  3.66it/s]\n",
            "                 all        853       4072      0.916      0.499      0.594      0.333\n",
            "\n",
            "     Epoch   gpu_mem       box       obj       cls    labels  img_size\n",
            "     13/29    0.688G   0.03568   0.02113  0.006897        45       320:  63% 67/107 [00:26<00:15,  2.66it/s]libpng warning: iCCP: Not recognizing known sRGB profile that has been edited\n",
            "     13/29    0.688G   0.03591   0.02114  0.006951        44       320: 100% 107/107 [00:41<00:00,  2.56it/s]\n",
            "               Class     Images     Labels          P          R     mAP@.5 mAP@.5:.95:  48% 26/54 [00:07<00:07,  3.80it/s]libpng warning: iCCP: Not recognizing known sRGB profile that has been edited\n",
            "               Class     Images     Labels          P          R     mAP@.5 mAP@.5:.95: 100% 54/54 [00:14<00:00,  3.85it/s]\n",
            "                 all        853       4072      0.926      0.496      0.607      0.363\n",
            "\n",
            "     Epoch   gpu_mem       box       obj       cls    labels  img_size\n",
            "     14/29    0.688G   0.03368   0.02111  0.007245        59       320:  26% 28/107 [00:10<00:32,  2.45it/s]libpng warning: iCCP: Not recognizing known sRGB profile that has been edited\n",
            "     14/29    0.688G   0.03344   0.02082  0.007231       109       320:  34% 36/107 [00:13<00:28,  2.51it/s]libpng warning: iCCP: Not recognizing known sRGB profile that has been edited\n",
            "     14/29    0.688G   0.03388   0.02098  0.007299        48       320:  55% 59/107 [00:22<00:18,  2.59it/s]libpng warning: iCCP: Not recognizing known sRGB profile that has been edited\n",
            "     14/29    0.688G   0.03398   0.02086   0.00714        45       320:  62% 66/107 [00:25<00:18,  2.24it/s]libpng warning: iCCP: Not recognizing known sRGB profile that has been edited\n",
            "     14/29    0.688G   0.03442   0.02109    0.0071        71       320:  85% 91/107 [00:35<00:06,  2.31it/s]libpng warning: iCCP: Not recognizing known sRGB profile that has been edited\n",
            "libpng warning: iCCP: Not recognizing known sRGB profile that has been edited\n",
            "     14/29    0.688G   0.03451   0.02102  0.007181        40       320: 100% 107/107 [00:41<00:00,  2.56it/s]\n",
            "               Class     Images     Labels          P          R     mAP@.5 mAP@.5:.95:  46% 25/54 [00:07<00:08,  3.51it/s]libpng warning: iCCP: Not recognizing known sRGB profile that has been edited\n",
            "               Class     Images     Labels          P          R     mAP@.5 mAP@.5:.95: 100% 54/54 [00:14<00:00,  3.65it/s]\n",
            "                 all        853       4072      0.899      0.523      0.616      0.362\n",
            "\n",
            "     Epoch   gpu_mem       box       obj       cls    labels  img_size\n",
            "     15/29    0.688G   0.03524   0.02077  0.007419        76       320:  11% 12/107 [00:04<00:34,  2.72it/s]libpng warning: iCCP: Not recognizing known sRGB profile that has been edited\n",
            "     15/29    0.688G   0.03524   0.02086  0.007133        55       320:  13% 14/107 [00:04<00:36,  2.58it/s]libpng warning: iCCP: Not recognizing known sRGB profile that has been edited\n",
            "     15/29    0.688G   0.03367   0.02114  0.007017        50       320:  46% 49/107 [00:19<00:23,  2.44it/s]libpng warning: iCCP: Not recognizing known sRGB profile that has been edited\n",
            "     15/29    0.688G    0.0328   0.02097  0.006915        45       320:  64% 69/107 [00:27<00:15,  2.52it/s]libpng warning: iCCP: Not recognizing known sRGB profile that has been edited\n",
            "     15/29    0.688G   0.03253   0.02069  0.006507        88       320:  91% 97/107 [00:38<00:03,  2.54it/s]libpng warning: iCCP: Not recognizing known sRGB profile that has been edited\n",
            "     15/29    0.688G   0.03252   0.02051  0.006569        33       320: 100% 107/107 [00:42<00:00,  2.50it/s]\n",
            "               Class     Images     Labels          P          R     mAP@.5 mAP@.5:.95:  44% 24/54 [00:06<00:08,  3.58it/s]libpng warning: iCCP: Not recognizing known sRGB profile that has been edited\n",
            "               Class     Images     Labels          P          R     mAP@.5 mAP@.5:.95: 100% 54/54 [00:14<00:00,  3.80it/s]\n",
            "                 all        853       4072      0.914      0.528      0.632      0.376\n",
            "\n",
            "     Epoch   gpu_mem       box       obj       cls    labels  img_size\n",
            "     16/29    0.688G   0.03211   0.01806  0.002668        55       320:   2% 2/107 [00:00<00:28,  3.64it/s]libpng warning: iCCP: Not recognizing known sRGB profile that has been edited\n",
            "     16/29    0.688G    0.0317   0.01876  0.006289        57       320:  13% 14/107 [00:04<00:35,  2.60it/s]libpng warning: iCCP: Not recognizing known sRGB profile that has been edited\n",
            "     16/29    0.688G   0.03126   0.01826  0.006318        48       320:  18% 19/107 [00:06<00:33,  2.62it/s]libpng warning: iCCP: Not recognizing known sRGB profile that has been edited\n",
            "     16/29    0.688G   0.03193   0.01887  0.006897        53       320:  59% 63/107 [00:24<00:17,  2.53it/s]\n",
            "     16/29    0.688G   0.03225   0.01872  0.006742        59       320:  90% 96/107 [00:38<00:04,  2.36it/s]libpng warning: iCCP: Not recognizing known sRGB profile that has been edited\n",
            "     16/29    0.688G   0.03209   0.01859  0.006569        22       320: 100% 107/107 [00:42<00:00,  2.51it/s]\n",
            "               Class     Images     Labels          P          R     mAP@.5 mAP@.5:.95:  46% 25/54 [00:07<00:08,  3.61it/s]libpng warning: iCCP: Not recognizing known sRGB profile that has been edited\n",
            "               Class     Images     Labels          P          R     mAP@.5 mAP@.5:.95: 100% 54/54 [00:14<00:00,  3.63it/s]\n",
            "                 all        853       4072      0.524       0.65      0.636      0.379\n",
            "\n",
            "     Epoch   gpu_mem       box       obj       cls    labels  img_size\n",
            "     17/29    0.688G   0.03195   0.02018   0.00712        42       320:  38% 41/107 [00:16<00:27,  2.44it/s]libpng warning: iCCP: Not recognizing known sRGB profile that has been edited\n",
            "     17/29    0.688G    0.0308   0.02022  0.007221        43       320: 100% 107/107 [00:43<00:00,  2.44it/s]\n",
            "               Class     Images     Labels          P          R     mAP@.5 mAP@.5:.95:  46% 25/54 [00:07<00:08,  3.53it/s]libpng warning: iCCP: Not recognizing known sRGB profile that has been edited\n",
            "               Class     Images     Labels          P          R     mAP@.5 mAP@.5:.95: 100% 54/54 [00:14<00:00,  3.63it/s]\n",
            "                 all        853       4072      0.562      0.642      0.642      0.399\n",
            "\n",
            "     Epoch   gpu_mem       box       obj       cls    labels  img_size\n",
            "     18/29    0.688G   0.03131   0.01904  0.006298        52       320:  10% 11/107 [00:03<00:34,  2.77it/s]libpng warning: iCCP: Not recognizing known sRGB profile that has been edited\n",
            "     18/29    0.688G   0.03116   0.01926  0.006568       131       320:  24% 26/107 [00:09<00:31,  2.55it/s]libpng warning: iCCP: Not recognizing known sRGB profile that has been edited\n",
            "     18/29    0.688G   0.03162   0.01932  0.007238        82       320:  45% 48/107 [00:19<00:24,  2.41it/s]libpng warning: iCCP: Not recognizing known sRGB profile that has been edited\n",
            "     18/29    0.688G   0.03114   0.02034  0.006885        28       320: 100% 107/107 [00:43<00:00,  2.49it/s]\n",
            "               Class     Images     Labels          P          R     mAP@.5 mAP@.5:.95:  46% 25/54 [00:07<00:08,  3.45it/s]libpng warning: iCCP: Not recognizing known sRGB profile that has been edited\n",
            "               Class     Images     Labels          P          R     mAP@.5 mAP@.5:.95: 100% 54/54 [00:14<00:00,  3.69it/s]\n",
            "                 all        853       4072      0.497      0.667      0.645      0.401\n",
            "\n",
            "     Epoch   gpu_mem       box       obj       cls    labels  img_size\n",
            "     19/29    0.688G   0.03134    0.0242   0.00671        78       320:   9% 10/107 [00:03<00:34,  2.79it/s]libpng warning: iCCP: Not recognizing known sRGB profile that has been edited\n",
            "     19/29    0.688G   0.02985   0.02077  0.006607        95       320:  34% 36/107 [00:14<00:32,  2.16it/s]libpng warning: iCCP: Not recognizing known sRGB profile that has been edited\n",
            "     19/29    0.688G   0.03012   0.02041  0.006454        41       320:  59% 63/107 [00:25<00:17,  2.49it/s]libpng warning: iCCP: Not recognizing known sRGB profile that has been edited\n",
            "     19/29    0.688G      0.03   0.02001  0.006214        57       320:  91% 97/107 [00:38<00:04,  2.42it/s]libpng warning: iCCP: Not recognizing known sRGB profile that has been edited\n",
            "     19/29    0.688G      0.03   0.01986  0.006085        36       320: 100% 107/107 [00:42<00:00,  2.50it/s]\n",
            "               Class     Images     Labels          P          R     mAP@.5 mAP@.5:.95:  46% 25/54 [00:07<00:08,  3.51it/s]libpng warning: iCCP: Not recognizing known sRGB profile that has been edited\n",
            "               Class     Images     Labels          P          R     mAP@.5 mAP@.5:.95: 100% 54/54 [00:14<00:00,  3.75it/s]\n",
            "                 all        853       4072      0.638      0.643      0.661      0.402\n",
            "\n",
            "     Epoch   gpu_mem       box       obj       cls    labels  img_size\n",
            "     20/29    0.688G   0.02889   0.02125  0.007207        61       320:   3% 3/107 [00:00<00:32,  3.17it/s]libpng warning: iCCP: Not recognizing known sRGB profile that has been edited\n",
            "     20/29    0.688G   0.02981   0.02082  0.006521       123       320:  47% 50/107 [00:19<00:25,  2.26it/s]libpng warning: iCCP: Not recognizing known sRGB profile that has been edited\n",
            "     20/29    0.688G   0.02981    0.0198  0.006467        75       320:  90% 96/107 [00:38<00:04,  2.43it/s]libpng warning: iCCP: Not recognizing known sRGB profile that has been edited\n",
            "     20/29    0.688G   0.02971   0.01986  0.006431        35       320: 100% 107/107 [00:42<00:00,  2.50it/s]\n",
            "               Class     Images     Labels          P          R     mAP@.5 mAP@.5:.95:  48% 26/54 [00:07<00:07,  3.79it/s]libpng warning: iCCP: Not recognizing known sRGB profile that has been edited\n",
            "               Class     Images     Labels          P          R     mAP@.5 mAP@.5:.95: 100% 54/54 [00:14<00:00,  3.64it/s]\n",
            "                 all        853       4072      0.537      0.663      0.645      0.406\n",
            "\n",
            "     Epoch   gpu_mem       box       obj       cls    labels  img_size\n",
            "     21/29    0.688G   0.02706   0.01576  0.007372        56       320:   2% 2/107 [00:00<00:34,  3.06it/s]libpng warning: iCCP: Not recognizing known sRGB profile that has been edited\n",
            "     21/29    0.688G   0.02728   0.01648  0.004974        39       320:  14% 15/107 [00:05<00:38,  2.41it/s]libpng warning: iCCP: Not recognizing known sRGB profile that has been edited\n",
            "     21/29    0.688G   0.02861   0.01804  0.005853        35       320:  76% 81/107 [00:32<00:10,  2.39it/s]libpng warning: iCCP: Not recognizing known sRGB profile that has been edited\n",
            "     21/29    0.688G   0.02861   0.01804   0.00585        35       320:  91% 97/107 [00:39<00:04,  2.31it/s]libpng warning: iCCP: Not recognizing known sRGB profile that has been edited\n",
            "     21/29    0.688G    0.0287   0.01833  0.005926        63       320:  95% 102/107 [00:41<00:02,  2.42it/s]libpng warning: iCCP: Not recognizing known sRGB profile that has been edited\n",
            "     21/29    0.688G   0.02874   0.01847  0.005946        65       320: 100% 107/107 [00:43<00:00,  2.46it/s]\n",
            "               Class     Images     Labels          P          R     mAP@.5 mAP@.5:.95:  46% 25/54 [00:07<00:08,  3.44it/s]libpng warning: iCCP: Not recognizing known sRGB profile that has been edited\n",
            "               Class     Images     Labels          P          R     mAP@.5 mAP@.5:.95: 100% 54/54 [00:14<00:00,  3.75it/s]\n",
            "                 all        853       4072      0.598      0.655      0.662      0.419\n",
            "\n",
            "     Epoch   gpu_mem       box       obj       cls    labels  img_size\n",
            "     22/29    0.688G   0.03013   0.02065  0.005789        50       320:  58% 62/107 [00:24<00:19,  2.31it/s]libpng warning: iCCP: Not recognizing known sRGB profile that has been edited\n",
            "     22/29    0.688G   0.02942   0.01987  0.005563        20       320: 100% 107/107 [00:42<00:00,  2.49it/s]\n",
            "               Class     Images     Labels          P          R     mAP@.5 mAP@.5:.95:   2% 1/54 [00:00<00:17,  3.12it/s]libpng warning: iCCP: Not recognizing known sRGB profile that has been edited\n",
            "               Class     Images     Labels          P          R     mAP@.5 mAP@.5:.95:  46% 25/54 [00:06<00:07,  3.71it/s]libpng warning: iCCP: Not recognizing known sRGB profile that has been edited\n",
            "               Class     Images     Labels          P          R     mAP@.5 mAP@.5:.95: 100% 54/54 [00:13<00:00,  3.90it/s]\n",
            "                 all        853       4072      0.612      0.652      0.666      0.428\n",
            "\n",
            "     Epoch   gpu_mem       box       obj       cls    labels  img_size\n",
            "     23/29    0.688G   0.02792    0.0179  0.005774        47       320:  31% 33/107 [00:12<00:29,  2.52it/s]libpng warning: iCCP: Not recognizing known sRGB profile that has been edited\n",
            "     23/29    0.688G   0.02791   0.01877   0.00604        67       320:  64% 68/107 [00:26<00:16,  2.38it/s]libpng warning: iCCP: Not recognizing known sRGB profile that has been edited\n",
            "     23/29    0.688G    0.0277   0.01909  0.005894        64       320:  93% 100/107 [00:39<00:02,  2.55it/s]libpng warning: iCCP: Not recognizing known sRGB profile that has been edited\n",
            "     23/29    0.688G    0.0277   0.01914  0.005832        37       320: 100% 107/107 [00:41<00:00,  2.56it/s]\n",
            "               Class     Images     Labels          P          R     mAP@.5 mAP@.5:.95:   0% 0/54 [00:00<?, ?it/s]libpng warning: iCCP: Not recognizing known sRGB profile that has been edited\n",
            "               Class     Images     Labels          P          R     mAP@.5 mAP@.5:.95:  46% 25/54 [00:07<00:07,  3.68it/s]libpng warning: iCCP: Not recognizing known sRGB profile that has been edited\n",
            "               Class     Images     Labels          P          R     mAP@.5 mAP@.5:.95: 100% 54/54 [00:14<00:00,  3.78it/s]\n",
            "                 all        853       4072      0.711      0.663      0.684      0.442\n",
            "\n",
            "     Epoch   gpu_mem       box       obj       cls    labels  img_size\n",
            "     24/29    0.688G   0.02972   0.01971  0.005805        56       320:   7% 8/107 [00:02<00:30,  3.20it/s]libpng warning: iCCP: Not recognizing known sRGB profile that has been edited\n",
            "     24/29    0.688G   0.02982   0.01942  0.005439        72       320:  10% 11/107 [00:03<00:34,  2.80it/s]libpng warning: iCCP: Not recognizing known sRGB profile that has been edited\n",
            "     24/29    0.688G   0.02828   0.01862  0.005253        65       320:  23% 25/107 [00:09<00:30,  2.68it/s]libpng warning: iCCP: Not recognizing known sRGB profile that has been edited\n",
            "     24/29    0.688G    0.0282   0.01903  0.005127        63       320:  28% 30/107 [00:11<00:29,  2.58it/s]libpng warning: iCCP: Not recognizing known sRGB profile that has been edited\n",
            "     24/29    0.688G   0.02756   0.01857   0.00544        60       320:  86% 92/107 [00:35<00:05,  2.67it/s]libpng warning: iCCP: Not recognizing known sRGB profile that has been edited\n",
            "     24/29    0.688G   0.02769     0.019  0.005489        37       320: 100% 107/107 [00:41<00:00,  2.57it/s]\n",
            "               Class     Images     Labels          P          R     mAP@.5 mAP@.5:.95:  46% 25/54 [00:07<00:08,  3.30it/s]libpng warning: iCCP: Not recognizing known sRGB profile that has been edited\n",
            "               Class     Images     Labels          P          R     mAP@.5 mAP@.5:.95: 100% 54/54 [00:14<00:00,  3.76it/s]\n",
            "                 all        853       4072      0.668      0.669      0.688      0.444\n",
            "\n",
            "     Epoch   gpu_mem       box       obj       cls    labels  img_size\n",
            "     25/29    0.688G   0.02767   0.01864  0.005489       105       320:  14% 15/107 [00:05<00:37,  2.48it/s]libpng warning: iCCP: Not recognizing known sRGB profile that has been edited\n",
            "     25/29    0.688G   0.02793   0.01937  0.005436        79       320:  19% 20/107 [00:07<00:35,  2.46it/s]libpng warning: iCCP: Not recognizing known sRGB profile that has been edited\n",
            "     25/29    0.688G   0.02707   0.01958  0.005216        86       320:  84% 90/107 [00:36<00:07,  2.29it/s]libpng warning: iCCP: Not recognizing known sRGB profile that has been edited\n",
            "     25/29    0.688G   0.02754   0.01979  0.005246        50       320: 100% 107/107 [00:43<00:00,  2.47it/s]\n",
            "               Class     Images     Labels          P          R     mAP@.5 mAP@.5:.95:  46% 25/54 [00:07<00:07,  3.73it/s]libpng warning: iCCP: Not recognizing known sRGB profile that has been edited\n",
            "               Class     Images     Labels          P          R     mAP@.5 mAP@.5:.95: 100% 54/54 [00:14<00:00,  3.62it/s]\n",
            "                 all        853       4072      0.661      0.675      0.691       0.45\n",
            "\n",
            "     Epoch   gpu_mem       box       obj       cls    labels  img_size\n",
            "     26/29    0.688G   0.02758    0.0194  0.005187        46       320:  33% 35/107 [00:13<00:27,  2.59it/s]libpng warning: iCCP: Not recognizing known sRGB profile that has been edited\n",
            "     26/29    0.688G   0.02743   0.01967  0.005817        69       320:  38% 41/107 [00:16<00:27,  2.38it/s]libpng warning: iCCP: Not recognizing known sRGB profile that has been edited\n",
            "     26/29    0.688G    0.0274   0.01965  0.005845        72       320:  39% 42/107 [00:16<00:30,  2.16it/s]libpng warning: iCCP: Not recognizing known sRGB profile that has been edited\n",
            "     26/29    0.688G   0.02747   0.01918  0.005936        78       320:  52% 56/107 [00:23<00:23,  2.17it/s]libpng warning: iCCP: Not recognizing known sRGB profile that has been edited\n",
            "     26/29    0.688G   0.02759   0.01943  0.005635        62       320:  75% 80/107 [00:32<00:10,  2.54it/s]libpng warning: iCCP: Not recognizing known sRGB profile that has been edited\n",
            "     26/29    0.688G   0.02732   0.01923  0.005476        24       320: 100% 107/107 [00:44<00:00,  2.42it/s]\n",
            "               Class     Images     Labels          P          R     mAP@.5 mAP@.5:.95:   0% 0/54 [00:00<?, ?it/s]libpng warning: iCCP: Not recognizing known sRGB profile that has been edited\n",
            "               Class     Images     Labels          P          R     mAP@.5 mAP@.5:.95:  44% 24/54 [00:07<00:08,  3.51it/s]libpng warning: iCCP: Not recognizing known sRGB profile that has been edited\n",
            "               Class     Images     Labels          P          R     mAP@.5 mAP@.5:.95: 100% 54/54 [00:15<00:00,  3.58it/s]\n",
            "                 all        853       4072      0.727      0.669      0.701       0.46\n",
            "\n",
            "     Epoch   gpu_mem       box       obj       cls    labels  img_size\n",
            "     27/29    0.688G   0.02753    0.0191  0.005591        73       320:  45% 48/107 [00:19<00:22,  2.61it/s]libpng warning: iCCP: Not recognizing known sRGB profile that has been edited\n",
            "     27/29    0.688G   0.02743   0.01904  0.005722       157       320:  57% 61/107 [00:24<00:21,  2.15it/s]libpng warning: iCCP: Not recognizing known sRGB profile that has been edited\n",
            "     27/29    0.688G   0.02705   0.01879  0.005464        33       320:  68% 73/107 [00:29<00:14,  2.42it/s]libpng warning: iCCP: Not recognizing known sRGB profile that has been edited\n",
            "     27/29    0.688G   0.02717   0.01914  0.005499        70       320:  79% 84/107 [00:34<00:09,  2.38it/s]libpng warning: iCCP: Not recognizing known sRGB profile that has been edited\n",
            "     27/29    0.688G   0.02717   0.01915  0.005471        55       320:  79% 85/107 [00:35<00:10,  2.11it/s]libpng warning: iCCP: Not recognizing known sRGB profile that has been edited\n",
            "     27/29    0.688G   0.02683   0.01904  0.005406        42       320: 100% 107/107 [00:43<00:00,  2.44it/s]\n",
            "               Class     Images     Labels          P          R     mAP@.5 mAP@.5:.95:  46% 25/54 [00:06<00:07,  3.86it/s]libpng warning: iCCP: Not recognizing known sRGB profile that has been edited\n",
            "               Class     Images     Labels          P          R     mAP@.5 mAP@.5:.95: 100% 54/54 [00:14<00:00,  3.83it/s]\n",
            "                 all        853       4072      0.716      0.676      0.704      0.463\n",
            "\n",
            "     Epoch   gpu_mem       box       obj       cls    labels  img_size\n",
            "     28/29    0.688G   0.02599   0.01903  0.005184       124       320:  21% 22/107 [00:08<00:34,  2.48it/s]libpng warning: iCCP: Not recognizing known sRGB profile that has been edited\n",
            "     28/29    0.688G   0.02606   0.01965   0.00541       148       320:  29% 31/107 [00:11<00:28,  2.69it/s]libpng warning: iCCP: Not recognizing known sRGB profile that has been edited\n",
            "     28/29    0.688G   0.02636    0.0196  0.005256        75       320:  43% 46/107 [00:17<00:23,  2.61it/s]libpng warning: iCCP: Not recognizing known sRGB profile that has been edited\n",
            "     28/29    0.688G   0.02616   0.01947  0.005436        46       320:  64% 68/107 [00:26<00:16,  2.35it/s]libpng warning: iCCP: Not recognizing known sRGB profile that has been edited\n",
            "     28/29    0.688G    0.0265   0.01911   0.00547        36       320: 100% 107/107 [00:42<00:00,  2.54it/s]\n",
            "               Class     Images     Labels          P          R     mAP@.5 mAP@.5:.95:  46% 25/54 [00:07<00:08,  3.45it/s]libpng warning: iCCP: Not recognizing known sRGB profile that has been edited\n",
            "               Class     Images     Labels          P          R     mAP@.5 mAP@.5:.95: 100% 54/54 [00:14<00:00,  3.72it/s]\n",
            "                 all        853       4072      0.782      0.665      0.704      0.466\n",
            "\n",
            "     Epoch   gpu_mem       box       obj       cls    labels  img_size\n",
            "     29/29    0.688G   0.02664    0.0181  0.005771       123       320:  36% 39/107 [00:15<00:28,  2.38it/s]libpng warning: iCCP: Not recognizing known sRGB profile that has been edited\n",
            "     29/29    0.688G   0.02649   0.01891  0.005193        64       320:  70% 75/107 [00:29<00:12,  2.60it/s]libpng warning: iCCP: Not recognizing known sRGB profile that has been edited\n",
            "     29/29    0.688G    0.0264   0.01892  0.005138        82       320:  73% 78/107 [00:31<00:13,  2.20it/s]libpng warning: iCCP: Not recognizing known sRGB profile that has been edited\n",
            "     29/29    0.688G   0.02633   0.01889  0.005213        30       320: 100% 107/107 [00:42<00:00,  2.50it/s]\n",
            "               Class     Images     Labels          P          R     mAP@.5 mAP@.5:.95:  46% 25/54 [00:07<00:08,  3.58it/s]libpng warning: iCCP: Not recognizing known sRGB profile that has been edited\n",
            "               Class     Images     Labels          P          R     mAP@.5 mAP@.5:.95: 100% 54/54 [00:14<00:00,  3.71it/s]\n",
            "                 all        853       4072       0.78      0.669      0.711      0.471\n",
            "\n",
            "30 epochs completed in 0.486 hours.\n",
            "Optimizer stripped from runs/train/exp2/weights/last.pt, 14.3MB\n",
            "Optimizer stripped from runs/train/exp2/weights/best.pt, 14.3MB\n",
            "\n",
            "Validating runs/train/exp2/weights/best.pt...\n",
            "Fusing layers... \n",
            "Model Summary: 213 layers, 7018216 parameters, 0 gradients, 15.8 GFLOPs\n",
            "               Class     Images     Labels          P          R     mAP@.5 mAP@.5:.95:  44% 24/54 [00:10<00:09,  3.19it/s]libpng warning: iCCP: Not recognizing known sRGB profile that has been edited\n",
            "               Class     Images     Labels          P          R     mAP@.5 mAP@.5:.95: 100% 54/54 [00:18<00:00,  2.93it/s]\n",
            "                 all        853       4072       0.78      0.669      0.711      0.471\n",
            "        without_mask        853        717       0.64      0.835      0.822      0.494\n",
            "           with_mask        853       3232      0.816       0.92      0.936      0.632\n",
            "mask_weared_incorrect        853        123      0.884      0.252      0.375      0.287\n",
            "\n",
            "\u001b[34m\u001b[1mwandb\u001b[0m: Waiting for W&B process to finish... \u001b[32m(success).\u001b[0m\n",
            "\u001b[34m\u001b[1mwandb\u001b[0m:                                                                                \n",
            "\u001b[34m\u001b[1mwandb\u001b[0m: \n",
            "\u001b[34m\u001b[1mwandb\u001b[0m: Run history:\n",
            "\u001b[34m\u001b[1mwandb\u001b[0m:      metrics/mAP_0.5 ▁▂▂▄▄▅▆▆▆▆▇▇▇▇▇▇▇▇▇▇▇██████████\n",
            "\u001b[34m\u001b[1mwandb\u001b[0m: metrics/mAP_0.5:0.95 ▁▁▁▃▂▄▄▅▅▅▆▆▆▆▆▇▇▇▇▇▇▇▇████████\n",
            "\u001b[34m\u001b[1mwandb\u001b[0m:    metrics/precision ▁▇▅▅▆▇██▇███████▅▅▅▆▅▅▆▆▆▆▆▆▇▇▇\n",
            "\u001b[34m\u001b[1mwandb\u001b[0m:       metrics/recall ▁▂▃▅▄▅▅▆▆▆▆▆▆▆▆▆███████████████\n",
            "\u001b[34m\u001b[1mwandb\u001b[0m:       train/box_loss █▆▅▄▄▃▃▃▂▂▂▂▂▂▂▂▁▁▁▁▁▁▁▁▁▁▁▁▁▁\n",
            "\u001b[34m\u001b[1mwandb\u001b[0m:       train/cls_loss █▅▄▄▃▃▂▂▂▂▂▂▂▁▂▁▁▂▁▁▁▁▁▁▁▁▁▁▁▁\n",
            "\u001b[34m\u001b[1mwandb\u001b[0m:       train/obj_loss ██▆▇▅▄▄▄▃▃▃▃▂▂▂▂▁▂▂▂▂▁▂▁▁▂▁▁▁▁\n",
            "\u001b[34m\u001b[1mwandb\u001b[0m:         val/box_loss █▇▆▄▅▃▃▂▃▂▂▂▂▂▂▂▁▁▁▁▁▁▁▁▁▁▁▁▁▁▁\n",
            "\u001b[34m\u001b[1mwandb\u001b[0m:         val/cls_loss █▇▆▄▄▃▃▃▂▂▂▂▂▂▂▂▂▂▁▁▁▁▁▁▁▁▁▁▁▁▁\n",
            "\u001b[34m\u001b[1mwandb\u001b[0m:         val/obj_loss █▅▄▄▃▃▃▃▂▂▂▂▂▂▂▂▁▁▁▁▁▁▁▁▁▁▁▁▁▁▁\n",
            "\u001b[34m\u001b[1mwandb\u001b[0m:                x/lr0 ▃▆███▇▇▇▇▆▆▆▆▅▅▅▅▄▄▄▃▃▃▃▂▂▂▂▁▁\n",
            "\u001b[34m\u001b[1mwandb\u001b[0m:                x/lr1 ▃▆███▇▇▇▇▆▆▆▆▅▅▅▅▄▄▄▃▃▃▃▂▂▂▂▁▁\n",
            "\u001b[34m\u001b[1mwandb\u001b[0m:                x/lr2 █▅▂▂▂▂▂▂▂▂▂▂▂▂▁▁▁▁▁▁▁▁▁▁▁▁▁▁▁▁\n",
            "\u001b[34m\u001b[1mwandb\u001b[0m: \n",
            "\u001b[34m\u001b[1mwandb\u001b[0m: Run summary:\n",
            "\u001b[34m\u001b[1mwandb\u001b[0m:           best/epoch 29\n",
            "\u001b[34m\u001b[1mwandb\u001b[0m:         best/mAP_0.5 0.71091\n",
            "\u001b[34m\u001b[1mwandb\u001b[0m:    best/mAP_0.5:0.95 0.47091\n",
            "\u001b[34m\u001b[1mwandb\u001b[0m:       best/precision 0.77981\n",
            "\u001b[34m\u001b[1mwandb\u001b[0m:          best/recall 0.66931\n",
            "\u001b[34m\u001b[1mwandb\u001b[0m:      metrics/mAP_0.5 0.71101\n",
            "\u001b[34m\u001b[1mwandb\u001b[0m: metrics/mAP_0.5:0.95 0.47101\n",
            "\u001b[34m\u001b[1mwandb\u001b[0m:    metrics/precision 0.77988\n",
            "\u001b[34m\u001b[1mwandb\u001b[0m:       metrics/recall 0.66931\n",
            "\u001b[34m\u001b[1mwandb\u001b[0m:       train/box_loss 0.02633\n",
            "\u001b[34m\u001b[1mwandb\u001b[0m:       train/cls_loss 0.00521\n",
            "\u001b[34m\u001b[1mwandb\u001b[0m:       train/obj_loss 0.01889\n",
            "\u001b[34m\u001b[1mwandb\u001b[0m:         val/box_loss 0.02176\n",
            "\u001b[34m\u001b[1mwandb\u001b[0m:         val/cls_loss 0.00385\n",
            "\u001b[34m\u001b[1mwandb\u001b[0m:         val/obj_loss 0.0135\n",
            "\u001b[34m\u001b[1mwandb\u001b[0m:                x/lr0 0.00076\n",
            "\u001b[34m\u001b[1mwandb\u001b[0m:                x/lr1 0.00076\n",
            "\u001b[34m\u001b[1mwandb\u001b[0m:                x/lr2 0.00076\n",
            "\u001b[34m\u001b[1mwandb\u001b[0m: \n",
            "\u001b[34m\u001b[1mwandb\u001b[0m: Synced \u001b[33msage-sea-4\u001b[0m: \u001b[34m\u001b[4mhttps://wandb.ai/pandyah5/YOLOv5/runs/12ikr9fv\u001b[0m\n",
            "\u001b[34m\u001b[1mwandb\u001b[0m: Synced 5 W&B file(s), 337 media file(s), 1 artifact file(s) and 0 other file(s)\n",
            "\u001b[34m\u001b[1mwandb\u001b[0m: Find logs at: \u001b[35m\u001b[1m./wandb/run-20220303_023313-12ikr9fv/logs\u001b[0m\n",
            "Results saved to \u001b[1mruns/train/exp2\u001b[0m\n"
          ]
        }
      ]
    },
    {
      "cell_type": "code",
      "source": [
        "model = torch.hub.load('ultralytics/yolov5', 'custom', path='/content/yolov5/runs/train/exp2/weights/last.pt', force_reload=True)"
      ],
      "metadata": {
        "colab": {
          "base_uri": "https://localhost:8080/"
        },
        "id": "3ll-P0rP_cBO",
        "outputId": "0f77ad0b-5ef4-4883-f3ba-d17b178d6703"
      },
      "execution_count": null,
      "outputs": [
        {
          "output_type": "stream",
          "name": "stderr",
          "text": [
            "Downloading: \"https://github.com/ultralytics/yolov5/archive/master.zip\" to /root/.cache/torch/hub/master.zip\n",
            "YOLOv5 🚀 2022-3-3 torch 1.10.0+cu111 CUDA:0 (Tesla K80, 11441MiB)\n",
            "\n",
            "Fusing layers... \n",
            "Model Summary: 213 layers, 7018216 parameters, 0 gradients, 15.8 GFLOPs\n",
            "Adding AutoShape... \n"
          ]
        }
      ]
    },
    {
      "cell_type": "code",
      "source": [
        "cap = cv2.VideoCapture(0)\n",
        "while cap.isOpened():\n",
        "    ret, frame = cap.read()\n",
        "    \n",
        "    # Make detections \n",
        "    results = model(frame)\n",
        "    \n",
        "    cv2.imshow('YOLO', np.squeeze(results.render()))\n",
        "    \n",
        "    if cv2.waitKey(10) & 0xFF == ord('q'):\n",
        "        break\n",
        "cap.release()\n",
        "cv2.destroyAllWindows()"
      ],
      "metadata": {
        "id": "UGxtf3d5nGAI"
      },
      "execution_count": null,
      "outputs": []
    },
    {
      "cell_type": "code",
      "source": [
        ""
      ],
      "metadata": {
        "id": "Tdc07NVnvhyy"
      },
      "execution_count": null,
      "outputs": []
    }
  ]
}