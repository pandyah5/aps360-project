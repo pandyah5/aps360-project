{
  "nbformat": 4,
  "nbformat_minor": 0,
  "metadata": {
    "colab": {
      "name": "txt_directory_creation.ipynb",
      "provenance": []
    },
    "kernelspec": {
      "name": "python3",
      "display_name": "Python 3"
    },
    "language_info": {
      "name": "python"
    }
  },
  "cells": [
    {
      "cell_type": "code",
      "source": [
        "from google.colab import files\n",
        "files.upload() # expire any previous token(s) and upload recreated token\n",
        "\n",
        "!rm -r ~/.kaggle\n",
        "!mkdir ~/.kaggle\n",
        "!mv ./kaggle.json ~/.kaggle/\n",
        "!chmod 600 ~/.kaggle/kaggle.json\n",
        "!kaggle datasets download andrewmvd/face-mask-detection\n",
        "!unzip -q face-mask-detection.zip -d face-mask-detection # outputs supressed"
      ],
      "metadata": {
        "id": "F-lBL3fAtXku"
      },
      "execution_count": null,
      "outputs": []
    },
    {
      "cell_type": "code",
      "source": [
        "# New folder to hold processed labels for yolov3 format\n",
        "! mkdir face-mask-detection/labels"
      ],
      "metadata": {
        "id": "kD_VCfpPrHhP"
      },
      "execution_count": null,
      "outputs": []
    },
    {
      "cell_type": "code",
      "source": [
        "import xml.etree.ElementTree as ET\n",
        "from os import listdir\n",
        "\n",
        "def create_txt_labels():\n",
        "    img_directory = '/content/face-mask-detection/images/'\n",
        "    annotation_directory = '/content/face-mask-detection/annotations/'\n",
        "\n",
        "    for image in listdir(img_directory):\n",
        "      image_name = image[:-4]\n",
        "      annotation_path = annotation_directory + image_name + '.xml'\n",
        "\n",
        "      # parse the xml file\n",
        "      tree = ET.parse(annotation_path)\n",
        "      root = tree.getroot()\n",
        "\n",
        "      to_write = []\n",
        "\n",
        "      # Get the width and height\n",
        "      for dim in root.iter('size'):\n",
        "        width = float(dim[0].text)\n",
        "        height = float(dim[1].text)\n",
        "\n",
        "      for object in root.iter('object'):\n",
        "        # Class\n",
        "        name = object[0].text\n",
        "\n",
        "        # Class definition\n",
        "        # No Mask: 0\n",
        "        # Mask: 1\n",
        "        # Incorrect: 2\n",
        "        if name == 'mask_weared_incorrect':\n",
        "          obj_class = 2\n",
        "        elif name == 'with_mask':\n",
        "          obj_class = 1\n",
        "        elif name == 'without_mask':\n",
        "          obj_class = 0\n",
        "\n",
        "        # Coordinates of the bounding box\n",
        "        xmin = int(object[5][0].text)\n",
        "        ymin = int(object[5][1].text)\n",
        "        xmax = int(object[5][2].text)\n",
        "        ymax = int(object[5][3].text)\n",
        "\n",
        "        # Find midpoint of bounding box\n",
        "        xmid = (xmin + xmax) / 2\n",
        "        ymid = (ymin + ymax) / 2\n",
        "\n",
        "        # Find width of bounding box\n",
        "        box_width = xmax - xmin\n",
        "        box_height = ymax - ymin\n",
        "\n",
        "        # Normalize the values\n",
        "        xmid = float(xmid) / width\n",
        "        ymid = float(ymid) / height\n",
        "        box_width = float(box_width) / width\n",
        "        box_height = float(box_height) / height\n",
        "\n",
        "        # Store\n",
        "        to_write.append(\"{} {} {} {} {}\".format(obj_class, xmid, ymid, box_width, box_height))\n",
        "\n",
        "      # Make path to file\n",
        "      label_path = '/content/face-mask-detection/labels/' + image_name + '.txt'\n",
        "\n",
        "      # Create and write to file\n",
        "      print(\"\\n\".join(to_write), file= open(label_path, \"w\"))\n"
      ],
      "metadata": {
        "id": "rs03lH2GwNar"
      },
      "execution_count": null,
      "outputs": []
    }
  ]
}