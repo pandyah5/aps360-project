{
  "nbformat": 4,
  "nbformat_minor": 0,
  "metadata": {
    "colab": {
      "name": "hyperparameter tuning.ipynb",
      "provenance": [],
      "collapsed_sections": []
    },
    "kernelspec": {
      "name": "python3",
      "display_name": "Python 3"
    },
    "language_info": {
      "name": "python"
    }
  },
  "cells": [
    {
      "cell_type": "markdown",
      "source": [
        "yaml file modification instruction\n",
        "\n",
        "backbone:\n",
        "\n",
        "[from, number, module, args]\n",
        "\n",
        "from: the layer that the module input come from\n",
        "\n",
        "number: the number of times that the module is called\n",
        "\n",
        "module: the name of the module\n",
        "\n",
        "\n",
        "args: the arguments of the module"
      ],
      "metadata": {
        "id": "V96sI3y0xrAu"
      }
    }
  ]
}