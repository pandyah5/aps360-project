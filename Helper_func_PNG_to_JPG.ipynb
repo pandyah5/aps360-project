{
  "nbformat": 4,
  "nbformat_minor": 0,
  "metadata": {
    "colab": {
      "name": "PNG to JPG",
      "provenance": []
    },
    "kernelspec": {
      "name": "python3",
      "display_name": "Python 3"
    },
    "language_info": {
      "name": "python"
    }
  },
  "cells": [
    {
      "cell_type": "code",
      "execution_count": null,
      "metadata": {
        "id": "T9WPGggx6ZN1"
      },
      "outputs": [],
      "source": [
        "import os\n",
        "\n",
        "path = '/content'\n",
        "os.chdir(path)"
      ]
    },
    {
      "cell_type": "code",
      "source": [
        "for file in os.listdir():\n",
        "  if (file[-3:] == 'png'):\n",
        "    print(file[:-4])\n",
        "    os.rename(path + '/' + file, path +'/' + file[:-4] + '.jpg')"
      ],
      "metadata": {
        "id": "3DyILaNn62UC"
      },
      "execution_count": null,
      "outputs": []
    },
    {
      "cell_type": "code",
      "source": [
        ""
      ],
      "metadata": {
        "id": "3jbf_AWm63Y1"
      },
      "execution_count": null,
      "outputs": []
    }
  ]
}